{
 "cells": [
  {
   "cell_type": "code",
   "execution_count": null,
   "id": "51645f03",
   "metadata": {},
   "outputs": [],
   "source": [
    "import importlib\n",
    "from pymongo import MongoClient\n",
    "from datetime import datetime, timedelta\n",
    "import sys\n",
    "import eduhub_queries\n",
    "from pprint import pprint\n",
    "importlib.reload(eduhub_queries)\n",
    "from eduhub_queries import *\n",
    "from pprint import pprint\n"
   ]
  },
  {
   "cell_type": "code",
   "execution_count": 35,
   "id": "7a7ca2f0",
   "metadata": {},
   "outputs": [],
   "source": [
    "client = MongoClient(\"mongodb://localhost:27017/\")\n",
    "db = client[\"eduhub_db\"]\n"
   ]
  },
  {
   "cell_type": "markdown",
   "id": "1715cba1",
   "metadata": {},
   "source": [
    "# **TASK 3**"
   ]
  },
  {
   "cell_type": "markdown",
   "id": "ff45d92b",
   "metadata": {},
   "source": [
    "## **Task 3.1: Create Operations**"
   ]
  },
  {
   "cell_type": "markdown",
   "id": "a4b37eaa",
   "metadata": {},
   "source": [
    "**Inserting to the users collection**"
   ]
  },
  {
   "cell_type": "code",
   "execution_count": 42,
   "id": "765ba221",
   "metadata": {},
   "outputs": [],
   "source": [
    "new_student = {\n",
    "    \"_id\": \"user31\",\n",
    "    \"email\": \"beckynd@gmail.com\",\n",
    "    \"firstName\": \"Becky\",\n",
    "    \"lastName\": \"Ndubuisi\",\n",
    "    \"role\": \"student\",\n",
    "    \"dateJoined\": datetime.utcnow(),\n",
    "    \"profile\": {\n",
    "        \"bio\": \"Excited to learn!\",\n",
    "        \"avatar\": \"https://example.com/avatar.png\",\n",
    "        \"skills\": [\"Python\", \"MongoDB\"]\n",
    "    },\n",
    "    \"isActive\": False\n",
    "}"
   ]
  },
  {
   "cell_type": "code",
   "execution_count": 43,
   "id": "8be1384a",
   "metadata": {},
   "outputs": [
    {
     "name": "stdout",
     "output_type": "stream",
     "text": [
      "✅ Inserted into 'users' with _id: user31\n"
     ]
    },
    {
     "data": {
      "text/plain": [
       "'user31'"
      ]
     },
     "execution_count": 43,
     "metadata": {},
     "output_type": "execute_result"
    }
   ],
   "source": [
    "insert_one('users',new_student)"
   ]
  },
  {
   "cell_type": "markdown",
   "id": "12946489",
   "metadata": {},
   "source": [
    "**Inserting to the courses collection**"
   ]
  },
  {
   "cell_type": "code",
   "execution_count": 19,
   "id": "6411cdb4",
   "metadata": {},
   "outputs": [
    {
     "name": "stdout",
     "output_type": "stream",
     "text": [
      "✅ Inserted into 'courses' with _id: course9\n"
     ]
    },
    {
     "data": {
      "text/plain": [
       "'course9'"
      ]
     },
     "execution_count": 19,
     "metadata": {},
     "output_type": "execute_result"
    }
   ],
   "source": [
    "instructor_user = db.users.find_one({\"role\": \"instructor\"})\n",
    "instructor_userId = instructor_user[\"_id\"]\n",
    "\n",
    "new_course = {\n",
    "    \"_id\": \"course9\",\n",
    "    \"title\": \"MongoDB for Beginners\",\n",
    "    \"description\": \"Learn the basics of MongoDB and NoSQL design.\",\n",
    "    \"instructorId\": instructor_userId,\n",
    "    \"category\": \"Databases\",\n",
    "    \"level\": \"beginner\",\n",
    "    \"duration\": 10,  # in hours\n",
    "    \"price\": 49.99,\n",
    "    \"tags\": [\"mongodb\", \"nosql\", \"database\"],\n",
    "    \"createdAt\": datetime.utcnow(),\n",
    "    \"updatedAt\": datetime.utcnow(),\n",
    "    \"isPublished\": False\n",
    "}\n",
    "\n",
    "\n",
    "insert_one('courses',new_course)"
   ]
  },
  {
   "cell_type": "markdown",
   "id": "4af9e224",
   "metadata": {},
   "source": [
    "**Inserting into the enrollments collection**"
   ]
  },
  {
   "cell_type": "code",
   "execution_count": 21,
   "id": "51f4aa4f",
   "metadata": {},
   "outputs": [
    {
     "name": "stdout",
     "output_type": "stream",
     "text": [
      "✅ Inserted into 'enrollments' with _id: enroll26\n"
     ]
    },
    {
     "data": {
      "text/plain": [
       "'enroll26'"
      ]
     },
     "execution_count": 21,
     "metadata": {},
     "output_type": "execute_result"
    }
   ],
   "source": [
    "student_user = db.users.find_one({\"role\": \"student\"})\n",
    "studentId = student_user[\"_id\"]\n",
    "\n",
    "course = db.courses.find_one()\n",
    "courseId = course[\"_id\"]\n",
    "\n",
    "enrollment = {\n",
    "    \"_id\": \"enroll26\",\n",
    "    \"studentId\": studentId,\n",
    "    \"courseId\": courseId,\n",
    "    \"enrolledAt\": datetime.utcnow(),\n",
    "    \"status\": \"in progress\"\n",
    "}\n",
    "\n",
    "insert_one('enrollments',enrollment)"
   ]
  },
  {
   "cell_type": "markdown",
   "id": "cb93d527",
   "metadata": {},
   "source": [
    "**Inserting into lessons collection**"
   ]
  },
  {
   "cell_type": "code",
   "execution_count": 22,
   "id": "20ac09f9",
   "metadata": {},
   "outputs": [
    {
     "name": "stdout",
     "output_type": "stream",
     "text": [
      "✅ Inserted into 'lessons' with _id: lesson_course1_4\n"
     ]
    },
    {
     "data": {
      "text/plain": [
       "'lesson_course1_4'"
      ]
     },
     "execution_count": 22,
     "metadata": {},
     "output_type": "execute_result"
    }
   ],
   "source": [
    "course = db.courses.find_one()\n",
    "courseId = course[\"_id\"]\n",
    "\n",
    "lesson = {\n",
    "    \"_id\": f\"lesson_{courseId}_4\",\n",
    "    \"courseId\": courseId,\n",
    "    \"title\": \"Introduction to MongoDB\",\n",
    "    \"content\": \"This lesson introduces MongoDB fundamentals.\",\n",
    "    \"duration\": 10,\n",
    "    \"order\": 4,\n",
    "    \"resources\": [\"https://docs.mongodb.com\"],\n",
    "    \"createdAt\": datetime.utcnow(),\n",
    "    \"updatedAt\": datetime.utcnow()\n",
    "}\n",
    "\n",
    "insert_one('lessons',lesson)"
   ]
  },
  {
   "cell_type": "markdown",
   "id": "87db0f17",
   "metadata": {},
   "source": [
    "## **Task 3.2: Read Operations**"
   ]
  },
  {
   "cell_type": "markdown",
   "id": "2b875400",
   "metadata": {},
   "source": [
    "**Find all Active Student**"
   ]
  },
  {
   "cell_type": "code",
   "execution_count": 44,
   "id": "c07c1a96",
   "metadata": {},
   "outputs": [
    {
     "name": "stdout",
     "output_type": "stream",
     "text": [
      "Christopher Davis\n",
      "George Torres\n",
      "Brittany Smith\n",
      "Brenda Dominguez\n",
      "Eric Hall\n",
      "Jennifer Shaffer\n",
      "Megan Mcdaniel\n",
      "David Burton\n",
      "James Mason\n",
      "Lori Reed\n",
      "David Simpson\n",
      "Colleen Hudson\n",
      "Kendra Morton\n",
      "Susan Rodriguez\n",
      "Raymond Erickson\n",
      "Samantha Harris\n",
      "Jerry Williams\n",
      "Austin Delacruz\n",
      "Joseph Murray\n",
      "Derrick Clark\n",
      "John Conner\n",
      "Amanda Ramirez\n",
      "Emily Peterson\n",
      "Jose Smith\n"
     ]
    }
   ],
   "source": [
    "students = find_active_students(db)\n",
    "for student in students:\n",
    "    print(student[\"firstName\"], student[\"lastName\"])"
   ]
  },
  {
   "cell_type": "markdown",
   "id": "941457f7",
   "metadata": {},
   "source": [
    "**Retrieve course details with instructor information**"
   ]
  },
  {
   "cell_type": "code",
   "execution_count": 46,
   "id": "a8f0a63f",
   "metadata": {},
   "outputs": [
    {
     "name": "stdout",
     "output_type": "stream",
     "text": [
      "Program Masterclass - Lisa Valdez\n",
      "Politics Masterclass - Billy Green\n",
      "Step Masterclass - Raymond Newman\n",
      "Mr Masterclass - Rachel Miles\n",
      "Star Masterclass - Billy Green\n",
      "Officer Masterclass - Lisa Valdez\n",
      "Art Masterclass - Frank Bowen\n",
      "Condition Masterclass - Billy Green\n",
      "MongoDB for Beginners - Billy Green\n"
     ]
    }
   ],
   "source": [
    "courses = get_courses_with_instructors(db)\n",
    "for c in courses:\n",
    "    instructor = c.get(\"instructor\", {})\n",
    "    print(f\"{c['title']} - {instructor.get('firstName', 'N/A')} {instructor.get('lastName', '')}\")\n"
   ]
  },
  {
   "cell_type": "markdown",
   "id": "a882dad6",
   "metadata": {},
   "source": [
    "**Get all courses in a specific category**"
   ]
  },
  {
   "cell_type": "code",
   "execution_count": 48,
   "id": "a8d9e751",
   "metadata": {},
   "outputs": [
    {
     "name": "stdout",
     "output_type": "stream",
     "text": [
      "MongoDB for Beginners\n"
     ]
    }
   ],
   "source": [
    "ds_courses = get_courses_by_category(db, \"Databases\")\n",
    "for course in ds_courses:\n",
    "    print(course[\"title\"])"
   ]
  },
  {
   "cell_type": "markdown",
   "id": "e2786ec0",
   "metadata": {},
   "source": [
    "**Find students enrolled in a particular course**"
   ]
  },
  {
   "cell_type": "code",
   "execution_count": 68,
   "id": "06046ecc",
   "metadata": {},
   "outputs": [
    {
     "name": "stdout",
     "output_type": "stream",
     "text": [
      "David Simpson (user11) - Program Masterclass\n",
      "Susan Rodriguez (user14) - Program Masterclass\n",
      "Christopher Davis (user1) - Program Masterclass\n"
     ]
    }
   ],
   "source": [
    "course_title, students = get_students_in_course(db, \"course1\")\n",
    "if course_title:\n",
    "    for student in students:\n",
    "        print(f\"{student['firstName']} {student['lastName']} ({student['_id']}) - {course_title}\")\n",
    "else:\n",
    "    print(\"Course not found.\")\n"
   ]
  },
  {
   "cell_type": "markdown",
   "id": "22daafe3",
   "metadata": {},
   "source": [
    "**Search courses by title (case-insensitive, partial match)**"
   ]
  },
  {
   "cell_type": "code",
   "execution_count": 70,
   "id": "ff7215c1",
   "metadata": {},
   "outputs": [
    {
     "name": "stdout",
     "output_type": "stream",
     "text": [
      "MongoDB for Beginners\n"
     ]
    }
   ],
   "source": [
    "matched_courses = search_courses_by_title(db, \"mongodb\")\n",
    "for course in matched_courses:\n",
    "    print(course[\"title\"])\n"
   ]
  },
  {
   "cell_type": "markdown",
   "id": "8c0351cf",
   "metadata": {},
   "source": [
    "# **Task 3.3: Update Operations**"
   ]
  },
  {
   "cell_type": "markdown",
   "id": "660b3ef5",
   "metadata": {},
   "source": [
    "**Update a user’s profile information**"
   ]
  },
  {
   "cell_type": "code",
   "execution_count": 76,
   "id": "1a660f7b",
   "metadata": {},
   "outputs": [
    {
     "data": {
      "text/plain": [
       "{'_id': 'user12',\n",
       " 'email': 'xharrell@example.com',\n",
       " 'firstName': 'Colleen',\n",
       " 'lastName': 'Hudson',\n",
       " 'role': 'student',\n",
       " 'dateJoined': datetime.datetime(2025, 3, 20, 12, 57, 56, 991000),\n",
       " 'profile': {'bio': 'Experienced data scientist and Python developer.',\n",
       "  'avatar': 'http://example.com/avatar.jpg',\n",
       "  'skills': ['Python', 'Data Science', 'MongoDB']},\n",
       " 'isActive': True}"
      ]
     },
     "execution_count": 76,
     "metadata": {},
     "output_type": "execute_result"
    }
   ],
   "source": [
    "profile_data = {\n",
    "    \"bio\": \"Experienced data scientist and Python developer.\",\n",
    "    \"avatar\": \"http://example.com/avatar.jpg\",\n",
    "    \"skills\": [\"Python\", \"Data Science\", \"MongoDB\"]\n",
    "}\n",
    "\n",
    "\n",
    "update_document(\n",
    "    db,\n",
    "    \"users\",\n",
    "    {\"_id\": \"user12\"},\n",
    "    {\"$set\": {\"profile\": profile_data}}\n",
    ")\n",
    "\n",
    "db.users.find_one({'_id':\"user12\"})"
   ]
  },
  {
   "cell_type": "markdown",
   "id": "9fdeca9c",
   "metadata": {},
   "source": [
    "**Mark a course as published**"
   ]
  },
  {
   "cell_type": "code",
   "execution_count": 83,
   "id": "51c52eed",
   "metadata": {},
   "outputs": [
    {
     "data": {
      "text/plain": [
       "{'_id': 'course8',\n",
       " 'title': 'Condition Masterclass',\n",
       " 'description': 'Require perform beautiful institution imagine. Two education career discussion reflect. Yet economic other hair reach.',\n",
       " 'instructorId': 'user25',\n",
       " 'category': 'AI',\n",
       " 'level': 'beginner',\n",
       " 'duration': 49,\n",
       " 'price': 115.6,\n",
       " 'tags': ['body', 'east', 'time', 'where'],\n",
       " 'createdAt': datetime.datetime(2025, 6, 14, 13, 9, 17, 918000),\n",
       " 'updatedAt': datetime.datetime(2025, 6, 14, 13, 9, 17, 918000),\n",
       " 'isPublished': True}"
      ]
     },
     "execution_count": 83,
     "metadata": {},
     "output_type": "execute_result"
    }
   ],
   "source": [
    "update_document(\n",
    "    db,\n",
    "    \"courses\",\n",
    "    {\"_id\": \"course8\"},\n",
    "    {\"$set\": {\"isPublished\": True}}\n",
    ")\n",
    "\n",
    "\n",
    "db.courses.find_one({'_id':\"course8\"})"
   ]
  },
  {
   "cell_type": "markdown",
   "id": "3d8699ee",
   "metadata": {},
   "source": [
    "**Update assignment grades**"
   ]
  },
  {
   "cell_type": "code",
   "execution_count": 81,
   "id": "af3c0791",
   "metadata": {},
   "outputs": [
    {
     "data": {
      "text/plain": [
       "{'_id': 'assign_course5_2',\n",
       " 'courseId': 'course5',\n",
       " 'lessonId': None,\n",
       " 'title': 'Assignment for Star Masterclass',\n",
       " 'description': 'Join rate conference score only under her. Game officer of free. Building dark edge sign moment alone. Same ok husband.',\n",
       " 'createdAt': datetime.datetime(2025, 6, 14, 13, 13, 36, 363000),\n",
       " 'dueDate': datetime.datetime(2025, 6, 19, 13, 13, 36, 363000),\n",
       " 'attachmentUrl': 'https://woodward.com/',\n",
       " 'grade': 95.5}"
      ]
     },
     "execution_count": 81,
     "metadata": {},
     "output_type": "execute_result"
    }
   ],
   "source": [
    "update_document(\n",
    "    db,\n",
    "    \"assignments\",\n",
    "    {\"_id\": \"assign_course5_2\"},\n",
    "    {\"$set\": {\"grade\": 95.5}}\n",
    ")\n",
    "\n",
    "db.assignments.find_one({'_id':\"assign_course5_2\"})"
   ]
  },
  {
   "cell_type": "markdown",
   "id": "b0f26708",
   "metadata": {},
   "source": [
    "**Add tags to an existing course**"
   ]
  },
  {
   "cell_type": "code",
   "execution_count": 82,
   "id": "8038664c",
   "metadata": {},
   "outputs": [
    {
     "data": {
      "text/plain": [
       "{'_id': 'course9',\n",
       " 'title': 'MongoDB for Beginners',\n",
       " 'description': 'Learn the basics of MongoDB and NoSQL design.',\n",
       " 'instructorId': 'user25',\n",
       " 'category': 'Databases',\n",
       " 'level': 'beginner',\n",
       " 'duration': 10,\n",
       " 'price': 49.99,\n",
       " 'tags': ['mongodb', 'nosql', 'database', 'shell', 'python'],\n",
       " 'createdAt': datetime.datetime(2025, 6, 14, 13, 38, 57, 567000),\n",
       " 'updatedAt': datetime.datetime(2025, 6, 14, 13, 38, 57, 567000),\n",
       " 'isPublished': False}"
      ]
     },
     "execution_count": 82,
     "metadata": {},
     "output_type": "execute_result"
    }
   ],
   "source": [
    "update_document(\n",
    "    db,\n",
    "    \"courses\",\n",
    "    {\"_id\": \"course9\"},\n",
    "    {\"$addToSet\": {\"tags\": {\"$each\": [\"shell\", \"python\"]}}}\n",
    ")\n",
    "\n",
    "db.courses.find_one({'_id':\"course9\"})\n"
   ]
  },
  {
   "cell_type": "markdown",
   "id": "65bf49ef",
   "metadata": {},
   "source": [
    "## **Task 3.4: Delete Operations**"
   ]
  },
  {
   "cell_type": "markdown",
   "id": "aa2a63d1",
   "metadata": {},
   "source": [
    "**Remove a user (soft delete by setting isActive to false)**"
   ]
  },
  {
   "cell_type": "code",
   "execution_count": 86,
   "id": "0709d3c5",
   "metadata": {},
   "outputs": [
    {
     "data": {
      "text/plain": [
       "{'_id': 'user20',\n",
       " 'email': 'lauren22@example.org',\n",
       " 'firstName': 'Derrick',\n",
       " 'lastName': 'Clark',\n",
       " 'role': 'student',\n",
       " 'dateJoined': datetime.datetime(2025, 3, 27, 7, 34, 3, 176000),\n",
       " 'profile': {'bio': 'Sound nothing black seek buy range.',\n",
       "  'avatar': 'https://placekitten.com/432/408',\n",
       "  'skills': ['front', 'why', 'current']},\n",
       " 'isActive': False}"
      ]
     },
     "execution_count": 86,
     "metadata": {},
     "output_type": "execute_result"
    }
   ],
   "source": [
    "soft_delete_user(db, \"user20\")\n",
    "\n",
    "\n",
    "db.users.find_one({'_id':\"user20\"})"
   ]
  },
  {
   "cell_type": "markdown",
   "id": "e7fe08d2",
   "metadata": {},
   "source": [
    "**Delete an enrollment**"
   ]
  },
  {
   "cell_type": "code",
   "execution_count": 90,
   "id": "d611664a",
   "metadata": {},
   "outputs": [
    {
     "name": "stdout",
     "output_type": "stream",
     "text": [
      "Deleted 1 enrollment(s).\n"
     ]
    }
   ],
   "source": [
    "result = delete_document(db, \"enrollments\", {\"_id\": \"enroll15\"})\n",
    "print(f\"Deleted {result['deleted_count']} enrollment(s).\")\n",
    "\n",
    "\n",
    "db.enrollments.find_one({'_id':\"enroll15\"})"
   ]
  },
  {
   "cell_type": "markdown",
   "id": "591576e1",
   "metadata": {},
   "source": [
    "**Remove a lesson from a course**"
   ]
  },
  {
   "cell_type": "code",
   "execution_count": 93,
   "id": "386c68b0",
   "metadata": {},
   "outputs": [
    {
     "name": "stdout",
     "output_type": "stream",
     "text": [
      "Deleted 1 lesson(s).\n"
     ]
    }
   ],
   "source": [
    "delete_document(db, \"lessons\", {\"_id\": \"lesson_course1_2\"})\n",
    "print(f\"Deleted {result['deleted_count']} lesson(s).\")\n",
    "\n",
    "db.lessons.find_one({'_id':\"lesson_course1_2\"})"
   ]
  },
  {
   "cell_type": "markdown",
   "id": "e43e6698",
   "metadata": {},
   "source": [
    "# **Part 4: Advanced Queries and Aggregation**"
   ]
  },
  {
   "cell_type": "markdown",
   "id": "c2146aab",
   "metadata": {},
   "source": [
    "## **Task 4.1: Complex Queries**"
   ]
  },
  {
   "cell_type": "markdown",
   "id": "87498bd1",
   "metadata": {},
   "source": [
    "**Find courses with price between $50 and $200**"
   ]
  },
  {
   "cell_type": "code",
   "execution_count": 108,
   "id": "a02f5517",
   "metadata": {},
   "outputs": [
    {
     "name": "stdout",
     "output_type": "stream",
     "text": [
      "Courses $50-$200:\n",
      "['Program Masterclass',\n",
      " 'Politics Masterclass',\n",
      " 'Step Masterclass',\n",
      " 'Mr Masterclass',\n",
      " 'Star Masterclass',\n",
      " 'Officer Masterclass',\n",
      " 'Art Masterclass',\n",
      " 'Condition Masterclass']\n"
     ]
    }
   ],
   "source": [
    "courses = find_courses_in_price_range(db, 50, 200)\n",
    "titles = [c[\"title\"] for c in courses]\n",
    "print(\"Courses $50-$200:\")\n",
    "pprint(titles)"
   ]
  },
  {
   "cell_type": "markdown",
   "id": "5d8a6d9d",
   "metadata": {},
   "source": [
    "**Get users who joined in the last 6 months**"
   ]
  },
  {
   "cell_type": "code",
   "execution_count": 109,
   "id": "22877f21",
   "metadata": {},
   "outputs": [
    {
     "name": "stdout",
     "output_type": "stream",
     "text": [
      "Recent users:\n",
      "['kelsey22@example.net',\n",
      " 'pwhitaker@example.org',\n",
      " 'dianafuentes@example.net',\n",
      " 'brendagonzalez@example.com',\n",
      " 'alexanderhernandez@example.net',\n",
      " 'sarah23@example.org',\n",
      " 'burgessrhonda@example.org',\n",
      " 'kayla20@example.net',\n",
      " 'donaldday@example.net',\n",
      " 'lucasadam@example.com',\n",
      " 'asmith@example.com',\n",
      " 'xharrell@example.com',\n",
      " 'kmcgee@example.org',\n",
      " 'xrodriguez@example.com',\n",
      " 'justin31@example.org',\n",
      " 'usmith@example.org',\n",
      " 'gonzalezjessica@example.com',\n",
      " 'gutierrezalec@example.org',\n",
      " 'zberg@example.com',\n",
      " 'lauren22@example.org',\n",
      " 'oking@example.net',\n",
      " 'ilane@example.org',\n",
      " 'danielpeterson@example.net',\n",
      " 'lynnclifford@example.net',\n",
      " 'carlsonlindsey@example.net',\n",
      " 'llopez@example.com',\n",
      " 'lisa78@example.org',\n",
      " 'zhinton@example.com',\n",
      " 'paul15@example.com',\n",
      " 'townsendryan@example.com',\n",
      " 'beckynd@gmail.com']\n"
     ]
    }
   ],
   "source": [
    "users = find_recent_users(db, 6)\n",
    "print(\"Recent users:\")\n",
    "pprint([u[\"email\"] for u in users])"
   ]
  },
  {
   "cell_type": "markdown",
   "id": "305394da",
   "metadata": {},
   "source": [
    "**Find courses that have specific tags using $in operator**"
   ]
  },
  {
   "cell_type": "code",
   "execution_count": 103,
   "id": "9d846052",
   "metadata": {},
   "outputs": [
    {
     "name": "stdout",
     "output_type": "stream",
     "text": [
      "Courses with tags: ['MongoDB for Beginners']\n"
     ]
    }
   ],
   "source": [
    "courses_with_tags = find_courses_by_tags(db, [\"python\", \"shell\"])\n",
    "print(\"Courses with tags:\", [c[\"title\"] for c in courses_with_tags])"
   ]
  },
  {
   "cell_type": "markdown",
   "id": "7a688882",
   "metadata": {},
   "source": [
    "**Retrieve assignments with due dates in the next week**"
   ]
  },
  {
   "cell_type": "code",
   "execution_count": 110,
   "id": "07585cbb",
   "metadata": {},
   "outputs": [
    {
     "name": "stdout",
     "output_type": "stream",
     "text": [
      "Assignments due next week:\n",
      "['Assignment for Program Masterclass',\n",
      " 'Assignment for Mr Masterclass',\n",
      " 'Assignment for Mr Masterclass',\n",
      " 'Assignment for Star Masterclass',\n",
      " 'Assignment for Star Masterclass',\n",
      " 'Assignment for Art Masterclass',\n",
      " 'Assignment for Condition Masterclass']\n"
     ]
    }
   ],
   "source": [
    "from pprint import pprint\n",
    "\n",
    "assignments_due = find_assignments_due_next_week(db)\n",
    "print(\"Assignments due next week:\")\n",
    "pprint([a[\"title\"] for a in assignments_due])\n"
   ]
  },
  {
   "cell_type": "markdown",
   "id": "a78a9ba6",
   "metadata": {},
   "source": [
    "## **Task 4.2: Aggregation Pipeline**"
   ]
  },
  {
   "cell_type": "markdown",
   "id": "a4b4892e",
   "metadata": {},
   "source": [
    "**Count total enrollments per course**"
   ]
  },
  {
   "cell_type": "code",
   "execution_count": 112,
   "id": "594d0b5b",
   "metadata": {},
   "outputs": [
    {
     "name": "stdout",
     "output_type": "stream",
     "text": [
      "Enrollment Stats:\n",
      "{'totalEnrollments': 3, 'courseId': 'course8', 'courseTitle': 'Condition Masterclass'}\n",
      "{'totalEnrollments': 4, 'courseId': 'course7', 'courseTitle': 'Art Masterclass'}\n",
      "{'totalEnrollments': 3, 'courseId': 'course4', 'courseTitle': 'Mr Masterclass'}\n",
      "{'totalEnrollments': 3, 'courseId': 'course2', 'courseTitle': 'Politics Masterclass'}\n",
      "{'totalEnrollments': 6, 'courseId': 'course3', 'courseTitle': 'Step Masterclass'}\n",
      "{'totalEnrollments': 3, 'courseId': 'course6', 'courseTitle': 'Officer Masterclass'}\n",
      "{'totalEnrollments': 3, 'courseId': 'course1', 'courseTitle': 'Program Masterclass'}\n"
     ]
    }
   ],
   "source": [
    "print(\"Enrollment Stats:\")\n",
    "for e in get_enrollment_stats(db):\n",
    "    print(e)"
   ]
  },
  {
   "cell_type": "markdown",
   "id": "6edf202e",
   "metadata": {},
   "source": [
    "**Calculate average course rating**"
   ]
  },
  {
   "cell_type": "code",
   "execution_count": 119,
   "id": "43b91b7a",
   "metadata": {},
   "outputs": [
    {
     "name": "stdout",
     "output_type": "stream",
     "text": [
      "\n",
      "Average Course Rating:\n",
      "3.755555555555555\n"
     ]
    }
   ],
   "source": [
    "print(\"\\nAverage Course Rating:\")\n",
    "print(get_avg_course_rating(db))"
   ]
  },
  {
   "cell_type": "markdown",
   "id": "9ae114c6",
   "metadata": {},
   "source": [
    "**Group by course category**"
   ]
  },
  {
   "cell_type": "code",
   "execution_count": 114,
   "id": "43eec258",
   "metadata": {},
   "outputs": [
    {
     "name": "stdout",
     "output_type": "stream",
     "text": [
      "\n",
      "Courses Grouped by Category:\n",
      "{'count': 1, 'courses': ['Star Masterclass'], 'category': 'Marketing'}\n",
      "{'count': 1, 'courses': ['MongoDB for Beginners'], 'category': 'Databases'}\n",
      "{'count': 3, 'courses': ['Program Masterclass', 'Step Masterclass', 'Mr Masterclass'], 'category': 'Web Dev'}\n",
      "{'count': 2, 'courses': ['Officer Masterclass', 'Condition Masterclass'], 'category': 'AI'}\n",
      "{'count': 2, 'courses': ['Politics Masterclass', 'Art Masterclass'], 'category': 'Design'}\n"
     ]
    }
   ],
   "source": [
    "print(\"\\nCourses Grouped by Category:\")\n",
    "for c in group_courses_by_category(db):\n",
    "    print(c)"
   ]
  },
  {
   "cell_type": "markdown",
   "id": "1603ade3",
   "metadata": {},
   "source": [
    "## **Student Performance Analysis**"
   ]
  },
  {
   "cell_type": "markdown",
   "id": "80a74676",
   "metadata": {},
   "source": [
    "**Average grade per student**"
   ]
  },
  {
   "cell_type": "code",
   "execution_count": 136,
   "id": "2a421169",
   "metadata": {},
   "outputs": [
    {
     "name": "stdout",
     "output_type": "stream",
     "text": [
      "Average Grade per Student:\n",
      "{'studentId': 'user9', 'firstName': 'James', 'lastName': 'Mason', 'averageGrade': 95.83}\n",
      "{'studentId': 'user18', 'firstName': 'Austin', 'lastName': 'Delacruz', 'averageGrade': 83.06}\n",
      "{'studentId': 'user2', 'firstName': 'George', 'lastName': 'Torres', 'averageGrade': 81.52}\n",
      "{'studentId': 'user11', 'firstName': 'David', 'lastName': 'Simpson', 'averageGrade': 75.76}\n",
      "{'studentId': 'user5', 'firstName': 'Eric', 'lastName': 'Hall', 'averageGrade': 74.55}\n",
      "{'studentId': 'user3', 'firstName': 'Brittany', 'lastName': 'Smith', 'averageGrade': 72.6}\n",
      "{'studentId': 'user23', 'firstName': 'Emily', 'lastName': 'Peterson', 'averageGrade': 70.53}\n"
     ]
    }
   ],
   "source": [
    "print(\"Average Grade per Student:\")\n",
    "for grade in get_avg_grade_per_student(db):\n",
    "    print(grade)"
   ]
  },
  {
   "cell_type": "markdown",
   "id": "8bdf8c31",
   "metadata": {},
   "source": [
    "**Completion rate by course**"
   ]
  },
  {
   "cell_type": "code",
   "execution_count": 127,
   "id": "98750bfb",
   "metadata": {},
   "outputs": [
    {
     "name": "stdout",
     "output_type": "stream",
     "text": [
      "\n",
      "Completion Rate by Course:\n",
      "{'courseId': 'course7', 'enrolled': 4, 'submitted': 2, 'completionRate': 50.0}\n",
      "{'courseId': 'course4', 'enrolled': 3, 'submitted': 2, 'completionRate': 66.67}\n",
      "{'courseId': 'course2', 'enrolled': 3, 'submitted': 6, 'completionRate': 200.0}\n",
      "{'courseId': 'course3', 'enrolled': 6, 'submitted': 2, 'completionRate': 33.33}\n",
      "{'courseId': 'course6', 'enrolled': 3, 'submitted': 1, 'completionRate': 33.33}\n",
      "{'courseId': 'course1', 'enrolled': 3, 'submitted': 3, 'completionRate': 100.0}\n",
      "{'courseId': 'course8', 'enrolled': 3, 'submitted': 2, 'completionRate': 66.67}\n"
     ]
    }
   ],
   "source": [
    "print(\"\\nCompletion Rate by Course:\")\n",
    "for complete in get_completion_rate_by_course(db):\n",
    "    print(complete)"
   ]
  },
  {
   "cell_type": "markdown",
   "id": "5a6e3a1f",
   "metadata": {},
   "source": [
    "**Top-performing students**"
   ]
  },
  {
   "cell_type": "code",
   "execution_count": 135,
   "id": "518d4f7d",
   "metadata": {},
   "outputs": [
    {
     "name": "stdout",
     "output_type": "stream",
     "text": [
      "\n",
      "Top Performing Students:\n",
      "{'_id': 'user9', 'submissionCount': 1, 'studentId': 'user9', 'averageGrade': 95.83, 'name': 'James Mason'}\n",
      "{'_id': 'user18', 'submissionCount': 3, 'studentId': 'user18', 'averageGrade': 83.06, 'name': 'Austin Delacruz'}\n",
      "{'_id': 'user2', 'submissionCount': 1, 'studentId': 'user2', 'averageGrade': 81.52, 'name': 'George Torres'}\n",
      "{'_id': 'user11', 'submissionCount': 2, 'studentId': 'user11', 'averageGrade': 75.76, 'name': 'David Simpson'}\n",
      "{'_id': 'user5', 'submissionCount': 1, 'studentId': 'user5', 'averageGrade': 74.55, 'name': 'Eric Hall'}\n"
     ]
    }
   ],
   "source": [
    "print(\"\\nTop Performing Students:\")\n",
    "for perform in get_top_performing_students(db,5):\n",
    "    print(perform)"
   ]
  },
  {
   "cell_type": "markdown",
   "id": "b5776918",
   "metadata": {},
   "source": [
    "## **Instructor Analytics**\n"
   ]
  },
  {
   "cell_type": "markdown",
   "id": "3ee38e18",
   "metadata": {},
   "source": [
    "**Total students taught by each instructor**"
   ]
  },
  {
   "cell_type": "code",
   "execution_count": 131,
   "id": "6773afd0",
   "metadata": {},
   "outputs": [
    {
     "name": "stdout",
     "output_type": "stream",
     "text": [
      "\n",
      "Total Students per Instructor:\n",
      "Instructor ID: user26, Total Students: 6\n",
      "Instructor ID: user28, Total Students: 3\n",
      "Instructor ID: user25, Total Students: 6\n",
      "Instructor ID: user29, Total Students: 5\n",
      "Instructor ID: user27, Total Students: 4\n"
     ]
    }
   ],
   "source": [
    "students_per_instructor = get_total_students_per_instructor(db)\n",
    "print(\"\\nTotal Students per Instructor:\")\n",
    "for item in students_per_instructor:\n",
    "    print(f\"Instructor ID: {item['instructorId']}, Total Students: {item['totalStudents']}\")\n"
   ]
  },
  {
   "cell_type": "markdown",
   "id": "1b3974ff",
   "metadata": {},
   "source": [
    "**Average course rating per instructor**\n"
   ]
  },
  {
   "cell_type": "code",
   "execution_count": 132,
   "id": "9d9521fc",
   "metadata": {},
   "outputs": [
    {
     "name": "stdout",
     "output_type": "stream",
     "text": [
      "\n",
      "Average Course Rating per Instructor:\n",
      "Instructor ID: user28, Average Rating: 4.0\n",
      "Instructor ID: user29, Average Rating: 3.0\n",
      "Instructor ID: user26, Average Rating: 4.5\n",
      "Instructor ID: user27, Average Rating: 2.5\n",
      "Instructor ID: user25, Average Rating: 3.83\n"
     ]
    }
   ],
   "source": [
    "avg_rating = get_avg_rating_per_instructor(db)\n",
    "print(\"\\nAverage Course Rating per Instructor:\")\n",
    "for item in avg_rating:\n",
    "    print(f\"Instructor ID: {item['instructorId']}, Average Rating: {round(item['avgRating'], 2)}\")\n"
   ]
  },
  {
   "cell_type": "markdown",
   "id": "cacbcba6",
   "metadata": {},
   "source": [
    "\n",
    "**Revenue generated per instructor**\n"
   ]
  },
  {
   "cell_type": "code",
   "execution_count": 133,
   "id": "6d948fd2",
   "metadata": {},
   "outputs": [
    {
     "name": "stdout",
     "output_type": "stream",
     "text": [
      "\n",
      "Revenue per Instructor:\n",
      "Instructor ID: user26, Revenue: $571.53\n",
      "Instructor ID: user28, Revenue: $472.62\n",
      "Instructor ID: user25, Revenue: $618.36\n",
      "Instructor ID: user29, Revenue: $364.62\n",
      "Instructor ID: user27, Revenue: $557.28\n"
     ]
    }
   ],
   "source": [
    "revenue_data = get_revenue_per_instructor(db)\n",
    "print(\"\\nRevenue per Instructor:\")\n",
    "for item in revenue_data:\n",
    "    print(f\"Instructor ID: {item['instructorId']}, Revenue: ${item['revenue']:.2f}\")\n"
   ]
  },
  {
   "cell_type": "markdown",
   "id": "977973c0",
   "metadata": {},
   "source": [
    "## **Advanced Analytics**\n"
   ]
  },
  {
   "cell_type": "markdown",
   "id": "605700ed",
   "metadata": {},
   "source": [
    "**Monthly enrollment trends**\n"
   ]
  },
  {
   "cell_type": "code",
   "execution_count": 138,
   "id": "7af5e630",
   "metadata": {},
   "outputs": [
    {
     "name": "stdout",
     "output_type": "stream",
     "text": [
      "Monthly Enrollment Trends:\n",
      "2025-01: 10 enrollments\n",
      "2025-02: 3 enrollments\n",
      "2025-03: 5 enrollments\n",
      "2025-04: 1 enrollments\n",
      "2025-05: 4 enrollments\n",
      "2025-06: 2 enrollments\n"
     ]
    }
   ],
   "source": [
    "# Monthly enrollment trends for last 6 months\n",
    "monthly_trends = get_monthly_enrollment_trends(db,6)\n",
    "print(\"Monthly Enrollment Trends:\")\n",
    "for item in monthly_trends:\n",
    "    print(f\"{item['year']}-{item['month']:02d}: {item['enrollments']} enrollments\")\n"
   ]
  },
  {
   "cell_type": "markdown",
   "id": "7d95b232",
   "metadata": {},
   "source": [
    "**Most popular course categories**\n"
   ]
  },
  {
   "cell_type": "code",
   "execution_count": 139,
   "id": "0cfdb9a8",
   "metadata": {},
   "outputs": [
    {
     "name": "stdout",
     "output_type": "stream",
     "text": [
      "\n",
      "Most Popular Course Categories:\n",
      "Web Dev: 12 enrollments\n",
      "Design: 7 enrollments\n",
      "AI: 6 enrollments\n"
     ]
    }
   ],
   "source": [
    "popular_categories = get_most_popular_categories(db)\n",
    "print(\"\\nMost Popular Course Categories:\")\n",
    "for cat in popular_categories:\n",
    "    print(f\"{cat['_id']}: {cat['enrollmentCount']} enrollments\")\n"
   ]
  },
  {
   "cell_type": "markdown",
   "id": "d5e358c2",
   "metadata": {},
   "source": [
    "**Student engagement metrics**"
   ]
  },
  {
   "cell_type": "code",
   "execution_count": 140,
   "id": "b103ee22",
   "metadata": {},
   "outputs": [
    {
     "name": "stdout",
     "output_type": "stream",
     "text": [
      "\n",
      "Student Engagement Metrics:\n",
      "George Torres (user2): 1 submissions, Average Grade: 81.52\n",
      "Brittany Smith (user3): 1 submissions, Average Grade: 72.6\n",
      "Eric Hall (user5): 1 submissions, Average Grade: 74.55\n",
      "Austin Delacruz (user18): 3 submissions, Average Grade: 83.06\n",
      "Emily Peterson (user23): 1 submissions, Average Grade: 70.53\n",
      "Megan Mcdaniel (user7): 1 submissions, Average Grade: None\n",
      "Kendra Morton (user13): 1 submissions, Average Grade: None\n",
      "John Conner (user21): 1 submissions, Average Grade: None\n",
      "David Simpson (user11): 2 submissions, Average Grade: 75.76\n",
      "Brenda Dominguez (user4): 1 submissions, Average Grade: None\n",
      "Samantha Harris (user16): 3 submissions, Average Grade: None\n",
      "Susan Rodriguez (user14): 1 submissions, Average Grade: None\n",
      "James Mason (user9): 2 submissions, Average Grade: 95.83\n",
      "Joseph Murray (user19): 1 submissions, Average Grade: None\n"
     ]
    }
   ],
   "source": [
    "engagement_metrics = get_student_engagement_metrics(db)\n",
    "print(\"\\nStudent Engagement Metrics:\")\n",
    "for student in engagement_metrics:\n",
    "    print(f\"{student['name']} ({student['studentId']}): {student['assignmentsSubmitted']} submissions, Average Grade: {student['averageGrade']}\")\n"
   ]
  },
  {
   "cell_type": "markdown",
   "id": "3809a497",
   "metadata": {},
   "source": [
    "# **Part 5: Indexing and Performance**"
   ]
  },
  {
   "cell_type": "markdown",
   "id": "eab6c2ea",
   "metadata": {},
   "source": [
    "## **Task 5.1: Index Creation**"
   ]
  },
  {
   "cell_type": "code",
   "execution_count": 141,
   "id": "0eca53e8",
   "metadata": {},
   "outputs": [
    {
     "data": {
      "text/plain": [
       "'email_1'"
      ]
     },
     "execution_count": 141,
     "metadata": {},
     "output_type": "execute_result"
    }
   ],
   "source": [
    "# 1. User email lookup (unique index on email)\n",
    "db.users.create_index(\"email\", unique=True)"
   ]
  },
  {
   "cell_type": "code",
   "execution_count": 142,
   "id": "2797ef00",
   "metadata": {},
   "outputs": [
    {
     "data": {
      "text/plain": [
       "'title_text_category_text'"
      ]
     },
     "execution_count": 142,
     "metadata": {},
     "output_type": "execute_result"
    }
   ],
   "source": [
    "# 2. Course search by title and category (compound text index for efficient text search)\n",
    "db.courses.create_index([\n",
    "    (\"title\", \"text\"),\n",
    "    (\"category\", \"text\")\n",
    "])"
   ]
  },
  {
   "cell_type": "code",
   "execution_count": 143,
   "id": "676fafde",
   "metadata": {},
   "outputs": [
    {
     "data": {
      "text/plain": [
       "'dueDate_1'"
      ]
     },
     "execution_count": 143,
     "metadata": {},
     "output_type": "execute_result"
    }
   ],
   "source": [
    "# 3. Assignment queries by due date (index on dueDate)\n",
    "db.assignments.create_index(\"dueDate\")"
   ]
  },
  {
   "cell_type": "code",
   "execution_count": 144,
   "id": "9a23f8da",
   "metadata": {},
   "outputs": [
    {
     "data": {
      "text/plain": [
       "'studentId_1_courseId_1'"
      ]
     },
     "execution_count": 144,
     "metadata": {},
     "output_type": "execute_result"
    }
   ],
   "source": [
    "# 4. Enrollment queries by student and course (compound index on studentId and courseId)\n",
    "db.enrollments.create_index([(\"studentId\", 1), (\"courseId\", 1)])"
   ]
  },
  {
   "cell_type": "markdown",
   "id": "96fb77b9",
   "metadata": {},
   "source": [
    "## **Task 5.2: Query Optimization**"
   ]
  },
  {
   "cell_type": "markdown",
   "id": "30431652",
   "metadata": {},
   "source": [
    "**Analyze query performance using explain() method in PyMongo**"
   ]
  },
  {
   "cell_type": "code",
   "execution_count": 152,
   "id": "c4250fc7",
   "metadata": {},
   "outputs": [
    {
     "name": "stdout",
     "output_type": "stream",
     "text": [
      "{'executionStages': {'advanced': 0,\n",
      "                     'direction': 'forward',\n",
      "                     'docsExamined': 9,\n",
      "                     'executionTimeMillisEstimate': 0,\n",
      "                     'filter': {'category': {'$eq': 'Programming'}},\n",
      "                     'isCached': False,\n",
      "                     'isEOF': 1,\n",
      "                     'nReturned': 0,\n",
      "                     'needTime': 9,\n",
      "                     'needYield': 0,\n",
      "                     'restoreState': 0,\n",
      "                     'saveState': 0,\n",
      "                     'stage': 'COLLSCAN',\n",
      "                     'works': 10},\n",
      " 'executionSuccess': True,\n",
      " 'executionTimeMillis': 1,\n",
      " 'nReturned': 0,\n",
      " 'totalDocsExamined': 9,\n",
      " 'totalKeysExamined': 0}\n"
     ]
    }
   ],
   "source": [
    "explain_res = analyze_query_performance(db, \"courses\", {\"category\": \"Programming\"})\n"
   ]
  },
  {
   "cell_type": "markdown",
   "id": "7676fdda",
   "metadata": {},
   "source": [
    "**Optimize at least 3 slow queries**"
   ]
  },
  {
   "cell_type": "markdown",
   "id": "e7e819eb",
   "metadata": {},
   "source": [
    "**Query Before index**"
   ]
  },
  {
   "cell_type": "code",
   "execution_count": null,
   "id": "f8af58b2",
   "metadata": {},
   "outputs": [],
   "source": [
    "# 1. Course by category\n",
    "q1_before = time_query(db, \"courses\", {\"category\": \"Programming\"}, label=\"Course by Category\")\n",
    "\n",
    "# 2. Enrollment by student and course\n",
    "q2_before = time_query(db, \"enrollments\", {\"studentId\": \"student123\", \"courseId\": \"course1\"}, label=\"Enrollment Lookup\")\n",
    "\n",
    "# 3. Assignment due next week\n",
    "now = datetime.utcnow()\n",
    "next_week = now + timedelta(days=7)\n",
    "q3_before = time_query(db, \"assignments\", {\"dueDate\": {\"$gte\": now, \"$lte\": next_week}}, label=\"Upcoming Assignments\")"
   ]
  },
  {
   "cell_type": "code",
   "execution_count": 168,
   "id": "378046de",
   "metadata": {},
   "outputs": [
    {
     "data": {
      "text/plain": [
       "'dueDate_1'"
      ]
     },
     "execution_count": 168,
     "metadata": {},
     "output_type": "execute_result"
    }
   ],
   "source": [
    "#Creating Index\n",
    "db.courses.create_index([(\"category\", 1)])\n",
    "db.enrollments.create_index([(\"studentId\", 1), (\"courseId\", 1)])\n",
    "db.assignments.create_index([(\"dueDate\", 1)])\n"
   ]
  },
  {
   "cell_type": "code",
   "execution_count": 169,
   "id": "66711a11",
   "metadata": {},
   "outputs": [],
   "source": [
    "# After Indexing\n",
    "q1_after = time_query(db, \"courses\", {\"category\": \"Programming\"}, label=\"Course by Category\")\n",
    "q2_after = time_query(db, \"enrollments\", {\"studentId\": \"student123\", \"courseId\": \"course1\"}, label=\"Enrollment Lookup\")\n",
    "q3_after = time_query(db, \"assignments\", {\"dueDate\": {\"$gte\": now, \"$lte\": next_week}}, label=\"Upcoming Assignments\")\n"
   ]
  },
  {
   "cell_type": "markdown",
   "id": "e516a5c6",
   "metadata": {},
   "source": [
    "**Document the performance improvements using Python timing functions**"
   ]
  },
  {
   "cell_type": "code",
   "execution_count": 170,
   "id": "38b31f61",
   "metadata": {},
   "outputs": [
    {
     "name": "stdout",
     "output_type": "stream",
     "text": [
      "\n",
      "📊 Course by Category\n",
      "  - Before Index: 5.25 ms\n",
      "  - After Index:  0.93 ms\n",
      "  - Improvement:  4.32 ms\n",
      "\n",
      "📊 Enrollment Lookup\n",
      "  - Before Index: 1.02 ms\n",
      "  - After Index:  0.57 ms\n",
      "  - Improvement:  0.45 ms\n",
      "\n",
      "📊 Upcoming Assignments\n",
      "  - Before Index: 0.53 ms\n",
      "  - After Index:  0.54 ms\n",
      "  - Improvement:  -0.01 ms\n"
     ]
    }
   ],
   "source": [
    "print_comparison(q1_before, q1_after)\n",
    "print_comparison(q2_before, q2_after)\n",
    "print_comparison(q3_before, q3_after)\n"
   ]
  },
  {
   "cell_type": "code",
   "execution_count": null,
   "id": "48544ae4",
   "metadata": {},
   "outputs": [],
   "source": []
  }
 ],
 "metadata": {
  "kernelspec": {
   "display_name": "base",
   "language": "python",
   "name": "python3"
  },
  "language_info": {
   "codemirror_mode": {
    "name": "ipython",
    "version": 3
   },
   "file_extension": ".py",
   "mimetype": "text/x-python",
   "name": "python",
   "nbconvert_exporter": "python",
   "pygments_lexer": "ipython3",
   "version": "3.11.7"
  }
 },
 "nbformat": 4,
 "nbformat_minor": 5
}
