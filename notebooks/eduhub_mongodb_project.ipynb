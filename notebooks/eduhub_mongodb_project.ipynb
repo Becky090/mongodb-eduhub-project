{
 "cells": [
  {
   "cell_type": "code",
   "execution_count": 24,
   "id": "51645f03",
   "metadata": {},
   "outputs": [],
   "source": [
    "import importlib\n",
    "from pymongo import MongoClient\n",
    "from datetime import datetime, timedelta\n",
    "import sys\n",
    "sys.path.append(\"/Users/rebecca.ndubuisi/workspace/mongodb-eduhub-project/src\")\n",
    "import eduhub_queries\n",
    "from pprint import pprint\n",
    "importlib.reload(eduhub_queries)\n",
    "from eduhub_queries import *\n",
    "from pprint import pprint\n",
    "import pandas as pd\n",
    "import matplotlib.pyplot as plt"
   ]
  },
  {
   "cell_type": "code",
   "execution_count": 35,
   "id": "7a7ca2f0",
   "metadata": {},
   "outputs": [],
   "source": [
    "client = MongoClient(\"mongodb://localhost:27017/\")\n",
    "db = client[\"eduhub_db\"]\n"
   ]
  },
  {
   "cell_type": "markdown",
   "id": "1715cba1",
   "metadata": {},
   "source": [
    "# **TASK 3**"
   ]
  },
  {
   "cell_type": "markdown",
   "id": "ff45d92b",
   "metadata": {},
   "source": [
    "## **Task 3.1: Create Operations**"
   ]
  },
  {
   "cell_type": "markdown",
   "id": "a4b37eaa",
   "metadata": {},
   "source": [
    "**Inserting to the users collection**"
   ]
  },
  {
   "cell_type": "code",
   "execution_count": 42,
   "id": "765ba221",
   "metadata": {},
   "outputs": [],
   "source": [
    "new_student = {\n",
    "    \"_id\": \"user31\",\n",
    "    \"email\": \"beckynd@gmail.com\",\n",
    "    \"firstName\": \"Becky\",\n",
    "    \"lastName\": \"Ndubuisi\",\n",
    "    \"role\": \"student\",\n",
    "    \"dateJoined\": datetime.utcnow(),\n",
    "    \"profile\": {\n",
    "        \"bio\": \"Excited to learn!\",\n",
    "        \"avatar\": \"https://example.com/avatar.png\",\n",
    "        \"skills\": [\"Python\", \"MongoDB\"]\n",
    "    },\n",
    "    \"isActive\": False\n",
    "}"
   ]
  },
  {
   "cell_type": "code",
   "execution_count": 43,
   "id": "8be1384a",
   "metadata": {},
   "outputs": [
    {
     "name": "stdout",
     "output_type": "stream",
     "text": [
      "✅ Inserted into 'users' with _id: user31\n"
     ]
    },
    {
     "data": {
      "text/plain": [
       "'user31'"
      ]
     },
     "execution_count": 43,
     "metadata": {},
     "output_type": "execute_result"
    }
   ],
   "source": [
    "insert_one('users',new_student)"
   ]
  },
  {
   "cell_type": "markdown",
   "id": "12946489",
   "metadata": {},
   "source": [
    "**Inserting to the courses collection**"
   ]
  },
  {
   "cell_type": "code",
   "execution_count": 19,
   "id": "6411cdb4",
   "metadata": {},
   "outputs": [
    {
     "name": "stdout",
     "output_type": "stream",
     "text": [
      "✅ Inserted into 'courses' with _id: course9\n"
     ]
    },
    {
     "data": {
      "text/plain": [
       "'course9'"
      ]
     },
     "execution_count": 19,
     "metadata": {},
     "output_type": "execute_result"
    }
   ],
   "source": [
    "instructor_user = db.users.find_one({\"role\": \"instructor\"})\n",
    "instructor_userId = instructor_user[\"_id\"]\n",
    "\n",
    "new_course = {\n",
    "    \"_id\": \"course9\",\n",
    "    \"title\": \"MongoDB for Beginners\",\n",
    "    \"description\": \"Learn the basics of MongoDB and NoSQL design.\",\n",
    "    \"instructorId\": instructor_userId,\n",
    "    \"category\": \"Databases\",\n",
    "    \"level\": \"beginner\",\n",
    "    \"duration\": 10,  # in hours\n",
    "    \"price\": 49.99,\n",
    "    \"tags\": [\"mongodb\", \"nosql\", \"database\"],\n",
    "    \"createdAt\": datetime.utcnow(),\n",
    "    \"updatedAt\": datetime.utcnow(),\n",
    "    \"isPublished\": False\n",
    "}\n",
    "\n",
    "\n",
    "insert_one('courses',new_course)"
   ]
  },
  {
   "cell_type": "markdown",
   "id": "4af9e224",
   "metadata": {},
   "source": [
    "**Inserting into the enrollments collection**"
   ]
  },
  {
   "cell_type": "code",
   "execution_count": 21,
   "id": "51f4aa4f",
   "metadata": {},
   "outputs": [
    {
     "name": "stdout",
     "output_type": "stream",
     "text": [
      "✅ Inserted into 'enrollments' with _id: enroll26\n"
     ]
    },
    {
     "data": {
      "text/plain": [
       "'enroll26'"
      ]
     },
     "execution_count": 21,
     "metadata": {},
     "output_type": "execute_result"
    }
   ],
   "source": [
    "student_user = db.users.find_one({\"role\": \"student\"})\n",
    "studentId = student_user[\"_id\"]\n",
    "\n",
    "course = db.courses.find_one()\n",
    "courseId = course[\"_id\"]\n",
    "\n",
    "enrollment = {\n",
    "    \"_id\": \"enroll26\",\n",
    "    \"studentId\": studentId,\n",
    "    \"courseId\": courseId,\n",
    "    \"enrolledAt\": datetime.utcnow(),\n",
    "    \"status\": \"in progress\"\n",
    "}\n",
    "\n",
    "insert_one('enrollments',enrollment)"
   ]
  },
  {
   "cell_type": "markdown",
   "id": "cb93d527",
   "metadata": {},
   "source": [
    "**Inserting into lessons collection**"
   ]
  },
  {
   "cell_type": "code",
   "execution_count": 22,
   "id": "20ac09f9",
   "metadata": {},
   "outputs": [
    {
     "name": "stdout",
     "output_type": "stream",
     "text": [
      "✅ Inserted into 'lessons' with _id: lesson_course1_4\n"
     ]
    },
    {
     "data": {
      "text/plain": [
       "'lesson_course1_4'"
      ]
     },
     "execution_count": 22,
     "metadata": {},
     "output_type": "execute_result"
    }
   ],
   "source": [
    "course = db.courses.find_one()\n",
    "courseId = course[\"_id\"]\n",
    "\n",
    "lesson = {\n",
    "    \"_id\": f\"lesson_{courseId}_4\",\n",
    "    \"courseId\": courseId,\n",
    "    \"title\": \"Introduction to MongoDB\",\n",
    "    \"content\": \"This lesson introduces MongoDB fundamentals.\",\n",
    "    \"duration\": 10,\n",
    "    \"order\": 4,\n",
    "    \"resources\": [\"https://docs.mongodb.com\"],\n",
    "    \"createdAt\": datetime.utcnow(),\n",
    "    \"updatedAt\": datetime.utcnow()\n",
    "}\n",
    "\n",
    "insert_one('lessons',lesson)"
   ]
  },
  {
   "cell_type": "markdown",
   "id": "87db0f17",
   "metadata": {},
   "source": [
    "## **Task 3.2: Read Operations**"
   ]
  },
  {
   "cell_type": "markdown",
   "id": "2b875400",
   "metadata": {},
   "source": [
    "**Find all Active Student**"
   ]
  },
  {
   "cell_type": "code",
   "execution_count": 44,
   "id": "c07c1a96",
   "metadata": {},
   "outputs": [
    {
     "name": "stdout",
     "output_type": "stream",
     "text": [
      "Christopher Davis\n",
      "George Torres\n",
      "Brittany Smith\n",
      "Brenda Dominguez\n",
      "Eric Hall\n",
      "Jennifer Shaffer\n",
      "Megan Mcdaniel\n",
      "David Burton\n",
      "James Mason\n",
      "Lori Reed\n",
      "David Simpson\n",
      "Colleen Hudson\n",
      "Kendra Morton\n",
      "Susan Rodriguez\n",
      "Raymond Erickson\n",
      "Samantha Harris\n",
      "Jerry Williams\n",
      "Austin Delacruz\n",
      "Joseph Murray\n",
      "Derrick Clark\n",
      "John Conner\n",
      "Amanda Ramirez\n",
      "Emily Peterson\n",
      "Jose Smith\n"
     ]
    }
   ],
   "source": [
    "students = find_active_students(db)\n",
    "for student in students:\n",
    "    print(student[\"firstName\"], student[\"lastName\"])"
   ]
  },
  {
   "cell_type": "markdown",
   "id": "941457f7",
   "metadata": {},
   "source": [
    "**Retrieve course details with instructor information**"
   ]
  },
  {
   "cell_type": "code",
   "execution_count": 46,
   "id": "a8f0a63f",
   "metadata": {},
   "outputs": [
    {
     "name": "stdout",
     "output_type": "stream",
     "text": [
      "Program Masterclass - Lisa Valdez\n",
      "Politics Masterclass - Billy Green\n",
      "Step Masterclass - Raymond Newman\n",
      "Mr Masterclass - Rachel Miles\n",
      "Star Masterclass - Billy Green\n",
      "Officer Masterclass - Lisa Valdez\n",
      "Art Masterclass - Frank Bowen\n",
      "Condition Masterclass - Billy Green\n",
      "MongoDB for Beginners - Billy Green\n"
     ]
    }
   ],
   "source": [
    "courses = get_courses_with_instructors(db)\n",
    "for c in courses:\n",
    "    instructor = c.get(\"instructor\", {})\n",
    "    print(f\"{c['title']} - {instructor.get('firstName', 'N/A')} {instructor.get('lastName', '')}\")\n"
   ]
  },
  {
   "cell_type": "markdown",
   "id": "a882dad6",
   "metadata": {},
   "source": [
    "**Get all courses in a specific category**"
   ]
  },
  {
   "cell_type": "code",
   "execution_count": 48,
   "id": "a8d9e751",
   "metadata": {},
   "outputs": [
    {
     "name": "stdout",
     "output_type": "stream",
     "text": [
      "MongoDB for Beginners\n"
     ]
    }
   ],
   "source": [
    "ds_courses = get_courses_by_category(db, \"Databases\")\n",
    "for course in ds_courses:\n",
    "    print(course[\"title\"])"
   ]
  },
  {
   "cell_type": "markdown",
   "id": "e2786ec0",
   "metadata": {},
   "source": [
    "**Find students enrolled in a particular course**"
   ]
  },
  {
   "cell_type": "code",
   "execution_count": 68,
   "id": "06046ecc",
   "metadata": {},
   "outputs": [
    {
     "name": "stdout",
     "output_type": "stream",
     "text": [
      "David Simpson (user11) - Program Masterclass\n",
      "Susan Rodriguez (user14) - Program Masterclass\n",
      "Christopher Davis (user1) - Program Masterclass\n"
     ]
    }
   ],
   "source": [
    "course_title, students = get_students_in_course(db, \"course1\")\n",
    "if course_title:\n",
    "    for student in students:\n",
    "        print(f\"{student['firstName']} {student['lastName']} ({student['_id']}) - {course_title}\")\n",
    "else:\n",
    "    print(\"Course not found.\")\n"
   ]
  },
  {
   "cell_type": "markdown",
   "id": "22daafe3",
   "metadata": {},
   "source": [
    "**Search courses by title (case-insensitive, partial match)**"
   ]
  },
  {
   "cell_type": "code",
   "execution_count": 70,
   "id": "ff7215c1",
   "metadata": {},
   "outputs": [
    {
     "name": "stdout",
     "output_type": "stream",
     "text": [
      "MongoDB for Beginners\n"
     ]
    }
   ],
   "source": [
    "matched_courses = search_courses_by_title(db, \"mongodb\")\n",
    "for course in matched_courses:\n",
    "    print(course[\"title\"])\n"
   ]
  },
  {
   "cell_type": "markdown",
   "id": "8c0351cf",
   "metadata": {},
   "source": [
    "# **Task 3.3: Update Operations**"
   ]
  },
  {
   "cell_type": "markdown",
   "id": "660b3ef5",
   "metadata": {},
   "source": [
    "**Update a user’s profile information**"
   ]
  },
  {
   "cell_type": "code",
   "execution_count": 76,
   "id": "1a660f7b",
   "metadata": {},
   "outputs": [
    {
     "data": {
      "text/plain": [
       "{'_id': 'user12',\n",
       " 'email': 'xharrell@example.com',\n",
       " 'firstName': 'Colleen',\n",
       " 'lastName': 'Hudson',\n",
       " 'role': 'student',\n",
       " 'dateJoined': datetime.datetime(2025, 3, 20, 12, 57, 56, 991000),\n",
       " 'profile': {'bio': 'Experienced data scientist and Python developer.',\n",
       "  'avatar': 'http://example.com/avatar.jpg',\n",
       "  'skills': ['Python', 'Data Science', 'MongoDB']},\n",
       " 'isActive': True}"
      ]
     },
     "execution_count": 76,
     "metadata": {},
     "output_type": "execute_result"
    }
   ],
   "source": [
    "profile_data = {\n",
    "    \"bio\": \"Experienced data scientist and Python developer.\",\n",
    "    \"avatar\": \"http://example.com/avatar.jpg\",\n",
    "    \"skills\": [\"Python\", \"Data Science\", \"MongoDB\"]\n",
    "}\n",
    "\n",
    "\n",
    "update_document(\n",
    "    db,\n",
    "    \"users\",\n",
    "    {\"_id\": \"user12\"},\n",
    "    {\"$set\": {\"profile\": profile_data}}\n",
    ")\n",
    "\n",
    "db.users.find_one({'_id':\"user12\"})"
   ]
  },
  {
   "cell_type": "markdown",
   "id": "9fdeca9c",
   "metadata": {},
   "source": [
    "**Mark a course as published**"
   ]
  },
  {
   "cell_type": "code",
   "execution_count": 83,
   "id": "51c52eed",
   "metadata": {},
   "outputs": [
    {
     "data": {
      "text/plain": [
       "{'_id': 'course8',\n",
       " 'title': 'Condition Masterclass',\n",
       " 'description': 'Require perform beautiful institution imagine. Two education career discussion reflect. Yet economic other hair reach.',\n",
       " 'instructorId': 'user25',\n",
       " 'category': 'AI',\n",
       " 'level': 'beginner',\n",
       " 'duration': 49,\n",
       " 'price': 115.6,\n",
       " 'tags': ['body', 'east', 'time', 'where'],\n",
       " 'createdAt': datetime.datetime(2025, 6, 14, 13, 9, 17, 918000),\n",
       " 'updatedAt': datetime.datetime(2025, 6, 14, 13, 9, 17, 918000),\n",
       " 'isPublished': True}"
      ]
     },
     "execution_count": 83,
     "metadata": {},
     "output_type": "execute_result"
    }
   ],
   "source": [
    "update_document(\n",
    "    db,\n",
    "    \"courses\",\n",
    "    {\"_id\": \"course8\"},\n",
    "    {\"$set\": {\"isPublished\": True}}\n",
    ")\n",
    "\n",
    "\n",
    "db.courses.find_one({'_id':\"course8\"})"
   ]
  },
  {
   "cell_type": "markdown",
   "id": "3d8699ee",
   "metadata": {},
   "source": [
    "**Update assignment grades**"
   ]
  },
  {
   "cell_type": "code",
   "execution_count": 81,
   "id": "af3c0791",
   "metadata": {},
   "outputs": [
    {
     "data": {
      "text/plain": [
       "{'_id': 'assign_course5_2',\n",
       " 'courseId': 'course5',\n",
       " 'lessonId': None,\n",
       " 'title': 'Assignment for Star Masterclass',\n",
       " 'description': 'Join rate conference score only under her. Game officer of free. Building dark edge sign moment alone. Same ok husband.',\n",
       " 'createdAt': datetime.datetime(2025, 6, 14, 13, 13, 36, 363000),\n",
       " 'dueDate': datetime.datetime(2025, 6, 19, 13, 13, 36, 363000),\n",
       " 'attachmentUrl': 'https://woodward.com/',\n",
       " 'grade': 95.5}"
      ]
     },
     "execution_count": 81,
     "metadata": {},
     "output_type": "execute_result"
    }
   ],
   "source": [
    "update_document(\n",
    "    db,\n",
    "    \"assignments\",\n",
    "    {\"_id\": \"assign_course5_2\"},\n",
    "    {\"$set\": {\"grade\": 95.5}}\n",
    ")\n",
    "\n",
    "db.assignments.find_one({'_id':\"assign_course5_2\"})"
   ]
  },
  {
   "cell_type": "markdown",
   "id": "b0f26708",
   "metadata": {},
   "source": [
    "**Add tags to an existing course**"
   ]
  },
  {
   "cell_type": "code",
   "execution_count": 82,
   "id": "8038664c",
   "metadata": {},
   "outputs": [
    {
     "data": {
      "text/plain": [
       "{'_id': 'course9',\n",
       " 'title': 'MongoDB for Beginners',\n",
       " 'description': 'Learn the basics of MongoDB and NoSQL design.',\n",
       " 'instructorId': 'user25',\n",
       " 'category': 'Databases',\n",
       " 'level': 'beginner',\n",
       " 'duration': 10,\n",
       " 'price': 49.99,\n",
       " 'tags': ['mongodb', 'nosql', 'database', 'shell', 'python'],\n",
       " 'createdAt': datetime.datetime(2025, 6, 14, 13, 38, 57, 567000),\n",
       " 'updatedAt': datetime.datetime(2025, 6, 14, 13, 38, 57, 567000),\n",
       " 'isPublished': False}"
      ]
     },
     "execution_count": 82,
     "metadata": {},
     "output_type": "execute_result"
    }
   ],
   "source": [
    "update_document(\n",
    "    db,\n",
    "    \"courses\",\n",
    "    {\"_id\": \"course9\"},\n",
    "    {\"$addToSet\": {\"tags\": {\"$each\": [\"shell\", \"python\"]}}}\n",
    ")\n",
    "\n",
    "db.courses.find_one({'_id':\"course9\"})\n"
   ]
  },
  {
   "cell_type": "markdown",
   "id": "65bf49ef",
   "metadata": {},
   "source": [
    "## **Task 3.4: Delete Operations**"
   ]
  },
  {
   "cell_type": "markdown",
   "id": "aa2a63d1",
   "metadata": {},
   "source": [
    "**Remove a user (soft delete by setting isActive to false)**"
   ]
  },
  {
   "cell_type": "code",
   "execution_count": 86,
   "id": "0709d3c5",
   "metadata": {},
   "outputs": [
    {
     "data": {
      "text/plain": [
       "{'_id': 'user20',\n",
       " 'email': 'lauren22@example.org',\n",
       " 'firstName': 'Derrick',\n",
       " 'lastName': 'Clark',\n",
       " 'role': 'student',\n",
       " 'dateJoined': datetime.datetime(2025, 3, 27, 7, 34, 3, 176000),\n",
       " 'profile': {'bio': 'Sound nothing black seek buy range.',\n",
       "  'avatar': 'https://placekitten.com/432/408',\n",
       "  'skills': ['front', 'why', 'current']},\n",
       " 'isActive': False}"
      ]
     },
     "execution_count": 86,
     "metadata": {},
     "output_type": "execute_result"
    }
   ],
   "source": [
    "soft_delete_user(db, \"user20\")\n",
    "\n",
    "\n",
    "db.users.find_one({'_id':\"user20\"})"
   ]
  },
  {
   "cell_type": "markdown",
   "id": "e7fe08d2",
   "metadata": {},
   "source": [
    "**Delete an enrollment**"
   ]
  },
  {
   "cell_type": "code",
   "execution_count": 90,
   "id": "d611664a",
   "metadata": {},
   "outputs": [
    {
     "name": "stdout",
     "output_type": "stream",
     "text": [
      "Deleted 1 enrollment(s).\n"
     ]
    }
   ],
   "source": [
    "result = delete_document(db, \"enrollments\", {\"_id\": \"enroll15\"})\n",
    "print(f\"Deleted {result['deleted_count']} enrollment(s).\")\n",
    "\n",
    "\n",
    "db.enrollments.find_one({'_id':\"enroll15\"})"
   ]
  },
  {
   "cell_type": "markdown",
   "id": "591576e1",
   "metadata": {},
   "source": [
    "**Remove a lesson from a course**"
   ]
  },
  {
   "cell_type": "code",
   "execution_count": 93,
   "id": "386c68b0",
   "metadata": {},
   "outputs": [
    {
     "name": "stdout",
     "output_type": "stream",
     "text": [
      "Deleted 1 lesson(s).\n"
     ]
    }
   ],
   "source": [
    "delete_document(db, \"lessons\", {\"_id\": \"lesson_course1_2\"})\n",
    "print(f\"Deleted {result['deleted_count']} lesson(s).\")\n",
    "\n",
    "db.lessons.find_one({'_id':\"lesson_course1_2\"})"
   ]
  },
  {
   "cell_type": "markdown",
   "id": "e43e6698",
   "metadata": {},
   "source": [
    "# **Part 4: Advanced Queries and Aggregation**"
   ]
  },
  {
   "cell_type": "markdown",
   "id": "c2146aab",
   "metadata": {},
   "source": [
    "## **Task 4.1: Complex Queries**"
   ]
  },
  {
   "cell_type": "markdown",
   "id": "87498bd1",
   "metadata": {},
   "source": [
    "**Find courses with price between $50 and $200**"
   ]
  },
  {
   "cell_type": "code",
   "execution_count": 108,
   "id": "a02f5517",
   "metadata": {},
   "outputs": [
    {
     "name": "stdout",
     "output_type": "stream",
     "text": [
      "Courses $50-$200:\n",
      "['Program Masterclass',\n",
      " 'Politics Masterclass',\n",
      " 'Step Masterclass',\n",
      " 'Mr Masterclass',\n",
      " 'Star Masterclass',\n",
      " 'Officer Masterclass',\n",
      " 'Art Masterclass',\n",
      " 'Condition Masterclass']\n"
     ]
    }
   ],
   "source": [
    "courses = find_courses_in_price_range(db, 50, 200)\n",
    "titles = [c[\"title\"] for c in courses]\n",
    "print(\"Courses $50-$200:\")\n",
    "pprint(titles)"
   ]
  },
  {
   "cell_type": "markdown",
   "id": "5d8a6d9d",
   "metadata": {},
   "source": [
    "**Get users who joined in the last 6 months**"
   ]
  },
  {
   "cell_type": "code",
   "execution_count": 109,
   "id": "22877f21",
   "metadata": {},
   "outputs": [
    {
     "name": "stdout",
     "output_type": "stream",
     "text": [
      "Recent users:\n",
      "['kelsey22@example.net',\n",
      " 'pwhitaker@example.org',\n",
      " 'dianafuentes@example.net',\n",
      " 'brendagonzalez@example.com',\n",
      " 'alexanderhernandez@example.net',\n",
      " 'sarah23@example.org',\n",
      " 'burgessrhonda@example.org',\n",
      " 'kayla20@example.net',\n",
      " 'donaldday@example.net',\n",
      " 'lucasadam@example.com',\n",
      " 'asmith@example.com',\n",
      " 'xharrell@example.com',\n",
      " 'kmcgee@example.org',\n",
      " 'xrodriguez@example.com',\n",
      " 'justin31@example.org',\n",
      " 'usmith@example.org',\n",
      " 'gonzalezjessica@example.com',\n",
      " 'gutierrezalec@example.org',\n",
      " 'zberg@example.com',\n",
      " 'lauren22@example.org',\n",
      " 'oking@example.net',\n",
      " 'ilane@example.org',\n",
      " 'danielpeterson@example.net',\n",
      " 'lynnclifford@example.net',\n",
      " 'carlsonlindsey@example.net',\n",
      " 'llopez@example.com',\n",
      " 'lisa78@example.org',\n",
      " 'zhinton@example.com',\n",
      " 'paul15@example.com',\n",
      " 'townsendryan@example.com',\n",
      " 'beckynd@gmail.com']\n"
     ]
    }
   ],
   "source": [
    "users = find_recent_users(db, 6)\n",
    "print(\"Recent users:\")\n",
    "pprint([u[\"email\"] for u in users])"
   ]
  },
  {
   "cell_type": "markdown",
   "id": "305394da",
   "metadata": {},
   "source": [
    "**Find courses that have specific tags using $in operator**"
   ]
  },
  {
   "cell_type": "code",
   "execution_count": 103,
   "id": "9d846052",
   "metadata": {},
   "outputs": [
    {
     "name": "stdout",
     "output_type": "stream",
     "text": [
      "Courses with tags: ['MongoDB for Beginners']\n"
     ]
    }
   ],
   "source": [
    "courses_with_tags = find_courses_by_tags(db, [\"python\", \"shell\"])\n",
    "print(\"Courses with tags:\", [c[\"title\"] for c in courses_with_tags])"
   ]
  },
  {
   "cell_type": "markdown",
   "id": "7a688882",
   "metadata": {},
   "source": [
    "**Retrieve assignments with due dates in the next week**"
   ]
  },
  {
   "cell_type": "code",
   "execution_count": 110,
   "id": "07585cbb",
   "metadata": {},
   "outputs": [
    {
     "name": "stdout",
     "output_type": "stream",
     "text": [
      "Assignments due next week:\n",
      "['Assignment for Program Masterclass',\n",
      " 'Assignment for Mr Masterclass',\n",
      " 'Assignment for Mr Masterclass',\n",
      " 'Assignment for Star Masterclass',\n",
      " 'Assignment for Star Masterclass',\n",
      " 'Assignment for Art Masterclass',\n",
      " 'Assignment for Condition Masterclass']\n"
     ]
    }
   ],
   "source": [
    "from pprint import pprint\n",
    "\n",
    "assignments_due = find_assignments_due_next_week(db)\n",
    "print(\"Assignments due next week:\")\n",
    "pprint([a[\"title\"] for a in assignments_due])\n"
   ]
  },
  {
   "cell_type": "markdown",
   "id": "a78a9ba6",
   "metadata": {},
   "source": [
    "## **Task 4.2: Aggregation Pipeline**"
   ]
  },
  {
   "cell_type": "markdown",
   "id": "a4b4892e",
   "metadata": {},
   "source": [
    "**Count total enrollments per course**"
   ]
  },
  {
   "cell_type": "code",
   "execution_count": 39,
   "id": "594d0b5b",
   "metadata": {},
   "outputs": [
    {
     "data": {
      "text/html": [
       "<div>\n",
       "<style scoped>\n",
       "    .dataframe tbody tr th:only-of-type {\n",
       "        vertical-align: middle;\n",
       "    }\n",
       "\n",
       "    .dataframe tbody tr th {\n",
       "        vertical-align: top;\n",
       "    }\n",
       "\n",
       "    .dataframe thead th {\n",
       "        text-align: right;\n",
       "    }\n",
       "</style>\n",
       "<table border=\"1\" class=\"dataframe\">\n",
       "  <thead>\n",
       "    <tr style=\"text-align: right;\">\n",
       "      <th></th>\n",
       "      <th>totalEnrollments</th>\n",
       "      <th>courseId</th>\n",
       "      <th>courseTitle</th>\n",
       "    </tr>\n",
       "  </thead>\n",
       "  <tbody>\n",
       "    <tr>\n",
       "      <th>0</th>\n",
       "      <td>3</td>\n",
       "      <td>course2</td>\n",
       "      <td>Politics Masterclass</td>\n",
       "    </tr>\n",
       "    <tr>\n",
       "      <th>1</th>\n",
       "      <td>3</td>\n",
       "      <td>course6</td>\n",
       "      <td>Officer Masterclass</td>\n",
       "    </tr>\n",
       "    <tr>\n",
       "      <th>2</th>\n",
       "      <td>6</td>\n",
       "      <td>course3</td>\n",
       "      <td>Step Masterclass</td>\n",
       "    </tr>\n",
       "    <tr>\n",
       "      <th>3</th>\n",
       "      <td>3</td>\n",
       "      <td>course1</td>\n",
       "      <td>Program Masterclass</td>\n",
       "    </tr>\n",
       "    <tr>\n",
       "      <th>4</th>\n",
       "      <td>3</td>\n",
       "      <td>course8</td>\n",
       "      <td>Condition Masterclass</td>\n",
       "    </tr>\n",
       "    <tr>\n",
       "      <th>5</th>\n",
       "      <td>4</td>\n",
       "      <td>course7</td>\n",
       "      <td>Art Masterclass</td>\n",
       "    </tr>\n",
       "    <tr>\n",
       "      <th>6</th>\n",
       "      <td>3</td>\n",
       "      <td>course4</td>\n",
       "      <td>Mr Masterclass</td>\n",
       "    </tr>\n",
       "  </tbody>\n",
       "</table>\n",
       "</div>"
      ],
      "text/plain": [
       "   totalEnrollments courseId            courseTitle\n",
       "0                 3  course2   Politics Masterclass\n",
       "1                 3  course6    Officer Masterclass\n",
       "2                 6  course3       Step Masterclass\n",
       "3                 3  course1    Program Masterclass\n",
       "4                 3  course8  Condition Masterclass\n",
       "5                 4  course7        Art Masterclass\n",
       "6                 3  course4         Mr Masterclass"
      ]
     },
     "metadata": {},
     "output_type": "display_data"
    }
   ],
   "source": [
    "enrollment_stats = get_enrollment_stats(db)\n",
    "\n",
    "df_enrollment_stats = pd.DataFrame(enrollment_stats)\n",
    "\n",
    "display(df_enrollment_stats)"
   ]
  },
  {
   "cell_type": "markdown",
   "id": "6edf202e",
   "metadata": {},
   "source": [
    "**Calculate average course rating**"
   ]
  },
  {
   "cell_type": "code",
   "execution_count": 119,
   "id": "43b91b7a",
   "metadata": {},
   "outputs": [
    {
     "name": "stdout",
     "output_type": "stream",
     "text": [
      "\n",
      "Average Course Rating:\n",
      "3.755555555555555\n"
     ]
    }
   ],
   "source": [
    "print(\"\\nAverage Course Rating:\")\n",
    "print(get_avg_course_rating(db))"
   ]
  },
  {
   "cell_type": "markdown",
   "id": "9ae114c6",
   "metadata": {},
   "source": [
    "**Group by course category**"
   ]
  },
  {
   "cell_type": "code",
   "execution_count": 41,
   "id": "396203e0",
   "metadata": {},
   "outputs": [
    {
     "data": {
      "image/png": "[encoded data removed]",
      "text/plain": [
       "<Figure size 800x500 with 1 Axes>"
      ]
     },
     "metadata": {},
     "output_type": "display_data"
    }
   ],
   "source": [
    "\n",
    "category_data = group_courses_by_category(db)\n",
    "\n",
    "df_categories = pd.DataFrame(category_data)\n",
    "\n",
    "# Plot\n",
    "plt.figure(figsize=(8, 5))\n",
    "plt.bar(df_categories['category'], df_categories['count'])\n",
    "plt.title(\"Number of Courses by Category\")\n",
    "plt.xlabel(\"Category\")\n",
    "plt.ylabel(\"Number of Courses\")\n",
    "plt.xticks(rotation=45)\n",
    "plt.tight_layout()\n",
    "plt.show()"
   ]
  },
  {
   "cell_type": "markdown",
   "id": "1603ade3",
   "metadata": {},
   "source": [
    "## **Student Performance Analysis**"
   ]
  },
  {
   "cell_type": "markdown",
   "id": "80a74676",
   "metadata": {},
   "source": [
    "**Average grade per student**"
   ]
  },
  {
   "cell_type": "code",
   "execution_count": 4,
   "id": "2a421169",
   "metadata": {},
   "outputs": [
    {
     "data": {
      "text/html": [
       "<div>\n",
       "<style scoped>\n",
       "    .dataframe tbody tr th:only-of-type {\n",
       "        vertical-align: middle;\n",
       "    }\n",
       "\n",
       "    .dataframe tbody tr th {\n",
       "        vertical-align: top;\n",
       "    }\n",
       "\n",
       "    .dataframe thead th {\n",
       "        text-align: right;\n",
       "    }\n",
       "</style>\n",
       "<table border=\"1\" class=\"dataframe\">\n",
       "  <thead>\n",
       "    <tr style=\"text-align: right;\">\n",
       "      <th></th>\n",
       "      <th>studentId</th>\n",
       "      <th>firstName</th>\n",
       "      <th>lastName</th>\n",
       "      <th>averageGrade</th>\n",
       "    </tr>\n",
       "  </thead>\n",
       "  <tbody>\n",
       "    <tr>\n",
       "      <th>0</th>\n",
       "      <td>user9</td>\n",
       "      <td>James</td>\n",
       "      <td>Mason</td>\n",
       "      <td>95.83</td>\n",
       "    </tr>\n",
       "    <tr>\n",
       "      <th>1</th>\n",
       "      <td>user18</td>\n",
       "      <td>Austin</td>\n",
       "      <td>Delacruz</td>\n",
       "      <td>83.06</td>\n",
       "    </tr>\n",
       "    <tr>\n",
       "      <th>2</th>\n",
       "      <td>user2</td>\n",
       "      <td>George</td>\n",
       "      <td>Torres</td>\n",
       "      <td>81.52</td>\n",
       "    </tr>\n",
       "    <tr>\n",
       "      <th>3</th>\n",
       "      <td>user11</td>\n",
       "      <td>David</td>\n",
       "      <td>Simpson</td>\n",
       "      <td>75.76</td>\n",
       "    </tr>\n",
       "    <tr>\n",
       "      <th>4</th>\n",
       "      <td>user5</td>\n",
       "      <td>Eric</td>\n",
       "      <td>Hall</td>\n",
       "      <td>74.55</td>\n",
       "    </tr>\n",
       "    <tr>\n",
       "      <th>5</th>\n",
       "      <td>user3</td>\n",
       "      <td>Brittany</td>\n",
       "      <td>Smith</td>\n",
       "      <td>72.60</td>\n",
       "    </tr>\n",
       "    <tr>\n",
       "      <th>6</th>\n",
       "      <td>user23</td>\n",
       "      <td>Emily</td>\n",
       "      <td>Peterson</td>\n",
       "      <td>70.53</td>\n",
       "    </tr>\n",
       "  </tbody>\n",
       "</table>\n",
       "</div>"
      ],
      "text/plain": [
       "  studentId firstName  lastName  averageGrade\n",
       "0     user9     James     Mason         95.83\n",
       "1    user18    Austin  Delacruz         83.06\n",
       "2     user2    George    Torres         81.52\n",
       "3    user11     David   Simpson         75.76\n",
       "4     user5      Eric      Hall         74.55\n",
       "5     user3  Brittany     Smith         72.60\n",
       "6    user23     Emily  Peterson         70.53"
      ]
     },
     "metadata": {},
     "output_type": "display_data"
    }
   ],
   "source": [
    "avg_grades = get_avg_grade_per_student(db)\n",
    "df_avg_grades = pd.DataFrame(avg_grades)\n",
    "display(df_avg_grades)"
   ]
  },
  {
   "cell_type": "markdown",
   "id": "8bdf8c31",
   "metadata": {},
   "source": [
    "**Completion rate by course**"
   ]
  },
  {
   "cell_type": "code",
   "execution_count": null,
   "id": "98750bfb",
   "metadata": {},
   "outputs": [
    {
     "data": {
      "text/plain": [
       "<Axes: title={'center': 'Course Completion Rates'}, xlabel='courseId'>"
      ]
     },
     "execution_count": 19,
     "metadata": {},
     "output_type": "execute_result"
    },
    {
     "data": {
      "image/png": "[encoded data removed]",
      "text/plain": [
       "<Figure size 1000x500 with 1 Axes>"
      ]
     },
     "metadata": {},
     "output_type": "display_data"
    }
   ],
   "source": [
    "df_completion.plot(x='courseId', y='completionRate', kind='bar', figsize=(10, 5), title='Course Completion Rates')\n"
   ]
  },
  {
   "cell_type": "markdown",
   "id": "5a6e3a1f",
   "metadata": {},
   "source": [
    "**Top-performing students**"
   ]
  },
  {
   "cell_type": "code",
   "execution_count": 14,
   "id": "518d4f7d",
   "metadata": {},
   "outputs": [
    {
     "data": {
      "text/html": [
       "<div>\n",
       "<style scoped>\n",
       "    .dataframe tbody tr th:only-of-type {\n",
       "        vertical-align: middle;\n",
       "    }\n",
       "\n",
       "    .dataframe tbody tr th {\n",
       "        vertical-align: top;\n",
       "    }\n",
       "\n",
       "    .dataframe thead th {\n",
       "        text-align: right;\n",
       "    }\n",
       "</style>\n",
       "<table border=\"1\" class=\"dataframe\">\n",
       "  <thead>\n",
       "    <tr style=\"text-align: right;\">\n",
       "      <th></th>\n",
       "      <th>_id</th>\n",
       "      <th>submissionCount</th>\n",
       "      <th>averageGrade</th>\n",
       "      <th>name</th>\n",
       "    </tr>\n",
       "  </thead>\n",
       "  <tbody>\n",
       "    <tr>\n",
       "      <th>0</th>\n",
       "      <td>user9</td>\n",
       "      <td>1</td>\n",
       "      <td>95.83</td>\n",
       "      <td>James Mason</td>\n",
       "    </tr>\n",
       "    <tr>\n",
       "      <th>1</th>\n",
       "      <td>user18</td>\n",
       "      <td>3</td>\n",
       "      <td>83.06</td>\n",
       "      <td>Austin Delacruz</td>\n",
       "    </tr>\n",
       "    <tr>\n",
       "      <th>2</th>\n",
       "      <td>user2</td>\n",
       "      <td>1</td>\n",
       "      <td>81.52</td>\n",
       "      <td>George Torres</td>\n",
       "    </tr>\n",
       "    <tr>\n",
       "      <th>3</th>\n",
       "      <td>user11</td>\n",
       "      <td>2</td>\n",
       "      <td>75.76</td>\n",
       "      <td>David Simpson</td>\n",
       "    </tr>\n",
       "    <tr>\n",
       "      <th>4</th>\n",
       "      <td>user5</td>\n",
       "      <td>1</td>\n",
       "      <td>74.55</td>\n",
       "      <td>Eric Hall</td>\n",
       "    </tr>\n",
       "  </tbody>\n",
       "</table>\n",
       "</div>"
      ],
      "text/plain": [
       "      _id  submissionCount  averageGrade             name\n",
       "0   user9                1         95.83      James Mason\n",
       "1  user18                3         83.06  Austin Delacruz\n",
       "2   user2                1         81.52    George Torres\n",
       "3  user11                2         75.76    David Simpson\n",
       "4   user5                1         74.55        Eric Hall"
      ]
     },
     "metadata": {},
     "output_type": "display_data"
    }
   ],
   "source": [
    "top_students = get_top_performing_students(db, limit=5)\n",
    "df_top_students = pd.DataFrame(top_students)\n",
    "display(df_top_students)"
   ]
  },
  {
   "cell_type": "markdown",
   "id": "b5776918",
   "metadata": {},
   "source": [
    "## **Instructor Analytics**\n"
   ]
  },
  {
   "cell_type": "markdown",
   "id": "3ee38e18",
   "metadata": {},
   "source": [
    "**Total students taught by each instructor**"
   ]
  },
  {
   "cell_type": "code",
   "execution_count": 10,
   "id": "6773afd0",
   "metadata": {},
   "outputs": [
    {
     "data": {
      "text/html": [
       "<div>\n",
       "<style scoped>\n",
       "    .dataframe tbody tr th:only-of-type {\n",
       "        vertical-align: middle;\n",
       "    }\n",
       "\n",
       "    .dataframe tbody tr th {\n",
       "        vertical-align: top;\n",
       "    }\n",
       "\n",
       "    .dataframe thead th {\n",
       "        text-align: right;\n",
       "    }\n",
       "</style>\n",
       "<table border=\"1\" class=\"dataframe\">\n",
       "  <thead>\n",
       "    <tr style=\"text-align: right;\">\n",
       "      <th></th>\n",
       "      <th>instructorId</th>\n",
       "      <th>instructorName</th>\n",
       "      <th>totalStudents</th>\n",
       "    </tr>\n",
       "  </thead>\n",
       "  <tbody>\n",
       "    <tr>\n",
       "      <th>0</th>\n",
       "      <td>user29</td>\n",
       "      <td>Raymond Newman</td>\n",
       "      <td>5</td>\n",
       "    </tr>\n",
       "    <tr>\n",
       "      <th>1</th>\n",
       "      <td>user27</td>\n",
       "      <td>Frank Bowen</td>\n",
       "      <td>4</td>\n",
       "    </tr>\n",
       "    <tr>\n",
       "      <th>2</th>\n",
       "      <td>user26</td>\n",
       "      <td>Lisa Valdez</td>\n",
       "      <td>6</td>\n",
       "    </tr>\n",
       "    <tr>\n",
       "      <th>3</th>\n",
       "      <td>user28</td>\n",
       "      <td>Rachel Miles</td>\n",
       "      <td>3</td>\n",
       "    </tr>\n",
       "    <tr>\n",
       "      <th>4</th>\n",
       "      <td>user25</td>\n",
       "      <td>Billy Green</td>\n",
       "      <td>6</td>\n",
       "    </tr>\n",
       "  </tbody>\n",
       "</table>\n",
       "</div>"
      ],
      "text/plain": [
       "  instructorId  instructorName  totalStudents\n",
       "0       user29  Raymond Newman              5\n",
       "1       user27     Frank Bowen              4\n",
       "2       user26     Lisa Valdez              6\n",
       "3       user28    Rachel Miles              3\n",
       "4       user25     Billy Green              6"
      ]
     },
     "metadata": {},
     "output_type": "display_data"
    }
   ],
   "source": [
    "total_students = get_total_students_per_instructor(db)\n",
    "df_total_students = pd.DataFrame(total_students)\n",
    "display(df_total_students)\n"
   ]
  },
  {
   "cell_type": "markdown",
   "id": "1b3974ff",
   "metadata": {},
   "source": [
    "**Average course rating per instructor**\n"
   ]
  },
  {
   "cell_type": "code",
   "execution_count": 17,
   "id": "9d9521fc",
   "metadata": {},
   "outputs": [
    {
     "data": {
      "text/html": [
       "<div>\n",
       "<style scoped>\n",
       "    .dataframe tbody tr th:only-of-type {\n",
       "        vertical-align: middle;\n",
       "    }\n",
       "\n",
       "    .dataframe tbody tr th {\n",
       "        vertical-align: top;\n",
       "    }\n",
       "\n",
       "    .dataframe thead th {\n",
       "        text-align: right;\n",
       "    }\n",
       "</style>\n",
       "<table border=\"1\" class=\"dataframe\">\n",
       "  <thead>\n",
       "    <tr style=\"text-align: right;\">\n",
       "      <th></th>\n",
       "      <th>instructorId</th>\n",
       "      <th>instructorName</th>\n",
       "      <th>avgRating</th>\n",
       "    </tr>\n",
       "  </thead>\n",
       "  <tbody>\n",
       "    <tr>\n",
       "      <th>0</th>\n",
       "      <td>user26</td>\n",
       "      <td>Lisa Valdez</td>\n",
       "      <td>4.50</td>\n",
       "    </tr>\n",
       "    <tr>\n",
       "      <th>1</th>\n",
       "      <td>user27</td>\n",
       "      <td>Frank Bowen</td>\n",
       "      <td>2.50</td>\n",
       "    </tr>\n",
       "    <tr>\n",
       "      <th>2</th>\n",
       "      <td>user29</td>\n",
       "      <td>Raymond Newman</td>\n",
       "      <td>3.00</td>\n",
       "    </tr>\n",
       "    <tr>\n",
       "      <th>3</th>\n",
       "      <td>user25</td>\n",
       "      <td>Billy Green</td>\n",
       "      <td>3.83</td>\n",
       "    </tr>\n",
       "    <tr>\n",
       "      <th>4</th>\n",
       "      <td>user28</td>\n",
       "      <td>Rachel Miles</td>\n",
       "      <td>4.00</td>\n",
       "    </tr>\n",
       "  </tbody>\n",
       "</table>\n",
       "</div>"
      ],
      "text/plain": [
       "  instructorId  instructorName  avgRating\n",
       "0       user26     Lisa Valdez       4.50\n",
       "1       user27     Frank Bowen       2.50\n",
       "2       user29  Raymond Newman       3.00\n",
       "3       user25     Billy Green       3.83\n",
       "4       user28    Rachel Miles       4.00"
      ]
     },
     "metadata": {},
     "output_type": "display_data"
    }
   ],
   "source": [
    "avg_ratings = get_avg_rating_per_instructor(db)\n",
    "df_avg_ratings = pd.DataFrame(avg_ratings)\n",
    "display(df_avg_ratings)\n"
   ]
  },
  {
   "cell_type": "markdown",
   "id": "cacbcba6",
   "metadata": {},
   "source": [
    "\n",
    "**Revenue generated per instructor**\n"
   ]
  },
  {
   "cell_type": "code",
   "execution_count": 27,
   "id": "04dd1fa9",
   "metadata": {},
   "outputs": [
    {
     "data": {
      "text/html": [
       "<div>\n",
       "<style scoped>\n",
       "    .dataframe tbody tr th:only-of-type {\n",
       "        vertical-align: middle;\n",
       "    }\n",
       "\n",
       "    .dataframe tbody tr th {\n",
       "        vertical-align: top;\n",
       "    }\n",
       "\n",
       "    .dataframe thead th {\n",
       "        text-align: right;\n",
       "    }\n",
       "</style>\n",
       "<table border=\"1\" class=\"dataframe\">\n",
       "  <thead>\n",
       "    <tr style=\"text-align: right;\">\n",
       "      <th></th>\n",
       "      <th>instructorId</th>\n",
       "      <th>instructorName</th>\n",
       "      <th>revenue</th>\n",
       "    </tr>\n",
       "  </thead>\n",
       "  <tbody>\n",
       "    <tr>\n",
       "      <th>0</th>\n",
       "      <td>user29</td>\n",
       "      <td>Raymond Newman</td>\n",
       "      <td>364.62</td>\n",
       "    </tr>\n",
       "    <tr>\n",
       "      <th>1</th>\n",
       "      <td>user27</td>\n",
       "      <td>Frank Bowen</td>\n",
       "      <td>557.28</td>\n",
       "    </tr>\n",
       "    <tr>\n",
       "      <th>2</th>\n",
       "      <td>user26</td>\n",
       "      <td>Lisa Valdez</td>\n",
       "      <td>571.53</td>\n",
       "    </tr>\n",
       "    <tr>\n",
       "      <th>3</th>\n",
       "      <td>user28</td>\n",
       "      <td>Rachel Miles</td>\n",
       "      <td>472.62</td>\n",
       "    </tr>\n",
       "    <tr>\n",
       "      <th>4</th>\n",
       "      <td>user25</td>\n",
       "      <td>Billy Green</td>\n",
       "      <td>618.36</td>\n",
       "    </tr>\n",
       "  </tbody>\n",
       "</table>\n",
       "</div>"
      ],
      "text/plain": [
       "  instructorId  instructorName  revenue\n",
       "0       user29  Raymond Newman   364.62\n",
       "1       user27     Frank Bowen   557.28\n",
       "2       user26     Lisa Valdez   571.53\n",
       "3       user28    Rachel Miles   472.62\n",
       "4       user25     Billy Green   618.36"
      ]
     },
     "metadata": {},
     "output_type": "display_data"
    },
    {
     "name": "stdout",
     "output_type": "stream",
     "text": [
      "Index(['instructorId', 'instructorName', 'revenue'], dtype='object')\n"
     ]
    },
    {
     "data": {
      "image/png": "[encoded data removed]",
      "text/plain": [
       "<Figure size 800x500 with 1 Axes>"
      ]
     },
     "metadata": {},
     "output_type": "display_data"
    }
   ],
   "source": [
    "df_revenue = pd.DataFrame(get_revenue_per_instructor(db))\n",
    "display(df_revenue)\n",
    "\n",
    "# Check for correct column names before plotting\n",
    "print(df_revenue.columns)\n",
    "\n",
    "# Plot if 'instructorName' exists\n",
    "if 'instructorName' in df_revenue.columns:\n",
    "    import matplotlib.pyplot as plt\n",
    "    plt.figure(figsize=(8, 5))\n",
    "    plt.bar(df_revenue['instructorName'], df_revenue['revenue'])\n",
    "    plt.xlabel(\"Instructor\")\n",
    "    plt.ylabel(\"Revenue ($)\")\n",
    "    plt.title(\"Revenue per Instructor\")\n",
    "    plt.xticks(rotation=45, ha='right')\n",
    "    plt.tight_layout()\n",
    "    plt.show()\n",
    "else:\n",
    "    print(\"Column 'instructorName' not found.\")\n"
   ]
  },
  {
   "cell_type": "markdown",
   "id": "977973c0",
   "metadata": {},
   "source": [
    "## **Advanced Analytics**\n"
   ]
  },
  {
   "cell_type": "markdown",
   "id": "605700ed",
   "metadata": {},
   "source": [
    "**Monthly enrollment trends**\n"
   ]
  },
  {
   "cell_type": "code",
   "execution_count": 30,
   "id": "4a6a72ff",
   "metadata": {},
   "outputs": [
    {
     "data": {
      "image/png": "[encoded data removed]",
      "text/plain": [
       "<Figure size 1000x500 with 1 Axes>"
      ]
     },
     "metadata": {},
     "output_type": "display_data"
    }
   ],
   "source": [
    "# Monthly enrollment trends for last 6 months\n",
    "monthly_trends = get_monthly_enrollment_trends(db, 6)\n",
    "\n",
    "df_trends = pd.DataFrame(monthly_trends)\n",
    "\n",
    "df_trends[\"date\"] = pd.to_datetime(df_trends[\"year\"].astype(str) + \"-\" + df_trends[\"month\"].astype(str) + \"-01\")\n",
    "\n",
    "df_trends = df_trends.sort_values(\"date\")\n",
    "\n",
    "# Plot\n",
    "plt.figure(figsize=(10, 5))\n",
    "plt.plot(df_trends[\"date\"], df_trends[\"enrollments\"], marker=\"o\", linestyle='-', color='teal')\n",
    "\n",
    "plt.title(\"Monthly Enrollment Trends (Last 6 Months)\")\n",
    "plt.xlabel(\"Month\")\n",
    "plt.ylabel(\"Enrollments\")\n",
    "plt.grid(True)\n",
    "plt.xticks(rotation=45)\n",
    "plt.tight_layout()\n",
    "plt.show()"
   ]
  },
  {
   "cell_type": "markdown",
   "id": "7d95b232",
   "metadata": {},
   "source": [
    "**Most popular course categories**\n"
   ]
  },
  {
   "cell_type": "code",
   "execution_count": 139,
   "id": "0cfdb9a8",
   "metadata": {},
   "outputs": [
    {
     "name": "stdout",
     "output_type": "stream",
     "text": [
      "\n",
      "Most Popular Course Categories:\n",
      "Web Dev: 12 enrollments\n",
      "Design: 7 enrollments\n",
      "AI: 6 enrollments\n"
     ]
    }
   ],
   "source": [
    "popular_categories = get_most_popular_categories(db)\n",
    "print(\"\\nMost Popular Course Categories:\")\n",
    "for cat in popular_categories:\n",
    "    print(f\"{cat['_id']}: {cat['enrollmentCount']} enrollments\")\n"
   ]
  },
  {
   "cell_type": "code",
   "execution_count": 37,
   "id": "c5a5b459",
   "metadata": {},
   "outputs": [
    {
     "data": {
      "image/png": "[encoded data removed]",
      "text/plain": [
       "<Figure size 800x500 with 1 Axes>"
      ]
     },
     "metadata": {},
     "output_type": "display_data"
    }
   ],
   "source": [
    "popular_categories = get_most_popular_categories(db)\n",
    "df_categories = pd.DataFrame(popular_categories)\n",
    "\n",
    "df_categories.rename(columns={\"_id\": \"category\"}, inplace=True)\n",
    "\n",
    "df_categories = df_categories.sort_values(by=\"enrollmentCount\", ascending=False)\n",
    "\n",
    "# Plot\n",
    "plt.figure(figsize=(8, 5))\n",
    "plt.bar(df_categories[\"category\"], df_categories[\"enrollmentCount\"])\n",
    "\n",
    "plt.title(\"Most Popular Course Categories\")\n",
    "plt.xlabel(\"Category\")\n",
    "plt.ylabel(\"Number of Enrollments\")\n",
    "plt.xticks(rotation=45, ha=\"right\")\n",
    "plt.tight_layout()\n",
    "plt.grid(axis=\"y\", linestyle=\"--\", alpha=0.7)\n",
    "plt.show()"
   ]
  },
  {
   "cell_type": "markdown",
   "id": "d5e358c2",
   "metadata": {},
   "source": [
    "**Student engagement metrics**"
   ]
  },
  {
   "cell_type": "code",
   "execution_count": 29,
   "id": "680e2f76",
   "metadata": {},
   "outputs": [
    {
     "data": {
      "text/html": [
       "<div>\n",
       "<style scoped>\n",
       "    .dataframe tbody tr th:only-of-type {\n",
       "        vertical-align: middle;\n",
       "    }\n",
       "\n",
       "    .dataframe tbody tr th {\n",
       "        vertical-align: top;\n",
       "    }\n",
       "\n",
       "    .dataframe thead th {\n",
       "        text-align: right;\n",
       "    }\n",
       "</style>\n",
       "<table border=\"1\" class=\"dataframe\">\n",
       "  <thead>\n",
       "    <tr style=\"text-align: right;\">\n",
       "      <th></th>\n",
       "      <th>assignmentsSubmitted</th>\n",
       "      <th>studentId</th>\n",
       "      <th>name</th>\n",
       "      <th>averageGrade</th>\n",
       "    </tr>\n",
       "  </thead>\n",
       "  <tbody>\n",
       "    <tr>\n",
       "      <th>0</th>\n",
       "      <td>3</td>\n",
       "      <td>user16</td>\n",
       "      <td>Samantha Harris</td>\n",
       "      <td>NaN</td>\n",
       "    </tr>\n",
       "    <tr>\n",
       "      <th>1</th>\n",
       "      <td>1</td>\n",
       "      <td>user14</td>\n",
       "      <td>Susan Rodriguez</td>\n",
       "      <td>NaN</td>\n",
       "    </tr>\n",
       "    <tr>\n",
       "      <th>2</th>\n",
       "      <td>1</td>\n",
       "      <td>user13</td>\n",
       "      <td>Kendra Morton</td>\n",
       "      <td>NaN</td>\n",
       "    </tr>\n",
       "    <tr>\n",
       "      <th>3</th>\n",
       "      <td>1</td>\n",
       "      <td>user2</td>\n",
       "      <td>George Torres</td>\n",
       "      <td>81.52</td>\n",
       "    </tr>\n",
       "    <tr>\n",
       "      <th>4</th>\n",
       "      <td>1</td>\n",
       "      <td>user5</td>\n",
       "      <td>Eric Hall</td>\n",
       "      <td>74.55</td>\n",
       "    </tr>\n",
       "    <tr>\n",
       "      <th>5</th>\n",
       "      <td>1</td>\n",
       "      <td>user21</td>\n",
       "      <td>John Conner</td>\n",
       "      <td>NaN</td>\n",
       "    </tr>\n",
       "    <tr>\n",
       "      <th>6</th>\n",
       "      <td>3</td>\n",
       "      <td>user18</td>\n",
       "      <td>Austin Delacruz</td>\n",
       "      <td>83.06</td>\n",
       "    </tr>\n",
       "    <tr>\n",
       "      <th>7</th>\n",
       "      <td>1</td>\n",
       "      <td>user23</td>\n",
       "      <td>Emily Peterson</td>\n",
       "      <td>70.53</td>\n",
       "    </tr>\n",
       "    <tr>\n",
       "      <th>8</th>\n",
       "      <td>2</td>\n",
       "      <td>user9</td>\n",
       "      <td>James Mason</td>\n",
       "      <td>95.83</td>\n",
       "    </tr>\n",
       "    <tr>\n",
       "      <th>9</th>\n",
       "      <td>1</td>\n",
       "      <td>user19</td>\n",
       "      <td>Joseph Murray</td>\n",
       "      <td>NaN</td>\n",
       "    </tr>\n",
       "    <tr>\n",
       "      <th>10</th>\n",
       "      <td>1</td>\n",
       "      <td>user3</td>\n",
       "      <td>Brittany Smith</td>\n",
       "      <td>72.60</td>\n",
       "    </tr>\n",
       "    <tr>\n",
       "      <th>11</th>\n",
       "      <td>2</td>\n",
       "      <td>user11</td>\n",
       "      <td>David Simpson</td>\n",
       "      <td>75.76</td>\n",
       "    </tr>\n",
       "    <tr>\n",
       "      <th>12</th>\n",
       "      <td>1</td>\n",
       "      <td>user7</td>\n",
       "      <td>Megan Mcdaniel</td>\n",
       "      <td>NaN</td>\n",
       "    </tr>\n",
       "    <tr>\n",
       "      <th>13</th>\n",
       "      <td>1</td>\n",
       "      <td>user4</td>\n",
       "      <td>Brenda Dominguez</td>\n",
       "      <td>NaN</td>\n",
       "    </tr>\n",
       "  </tbody>\n",
       "</table>\n",
       "</div>"
      ],
      "text/plain": [
       "    assignmentsSubmitted studentId              name  averageGrade\n",
       "0                      3    user16   Samantha Harris           NaN\n",
       "1                      1    user14   Susan Rodriguez           NaN\n",
       "2                      1    user13     Kendra Morton           NaN\n",
       "3                      1     user2     George Torres         81.52\n",
       "4                      1     user5         Eric Hall         74.55\n",
       "5                      1    user21       John Conner           NaN\n",
       "6                      3    user18   Austin Delacruz         83.06\n",
       "7                      1    user23    Emily Peterson         70.53\n",
       "8                      2     user9       James Mason         95.83\n",
       "9                      1    user19     Joseph Murray           NaN\n",
       "10                     1     user3    Brittany Smith         72.60\n",
       "11                     2    user11     David Simpson         75.76\n",
       "12                     1     user7    Megan Mcdaniel           NaN\n",
       "13                     1     user4  Brenda Dominguez           NaN"
      ]
     },
     "execution_count": 29,
     "metadata": {},
     "output_type": "execute_result"
    }
   ],
   "source": [
    "# Get the data\n",
    "engagement_metrics = get_student_engagement_metrics(db)\n",
    "\n",
    "# Convert to DataFrame\n",
    "df_engagement = pd.DataFrame(engagement_metrics)\n",
    "\n",
    "df_engagement\n"
   ]
  },
  {
   "cell_type": "markdown",
   "id": "3809a497",
   "metadata": {},
   "source": [
    "# **Part 5: Indexing and Performance**"
   ]
  },
  {
   "cell_type": "markdown",
   "id": "eab6c2ea",
   "metadata": {},
   "source": [
    "## **Task 5.1: Index Creation**"
   ]
  },
  {
   "cell_type": "code",
   "execution_count": 141,
   "id": "0eca53e8",
   "metadata": {},
   "outputs": [
    {
     "data": {
      "text/plain": [
       "'email_1'"
      ]
     },
     "execution_count": 141,
     "metadata": {},
     "output_type": "execute_result"
    }
   ],
   "source": [
    "# 1. User email lookup (unique index on email)\n",
    "db.users.create_index(\"email\", unique=True)"
   ]
  },
  {
   "cell_type": "code",
   "execution_count": 142,
   "id": "2797ef00",
   "metadata": {},
   "outputs": [
    {
     "data": {
      "text/plain": [
       "'title_text_category_text'"
      ]
     },
     "execution_count": 142,
     "metadata": {},
     "output_type": "execute_result"
    }
   ],
   "source": [
    "# 2. Course search by title and category (compound text index for efficient text search)\n",
    "db.courses.create_index([\n",
    "    (\"title\", \"text\"),\n",
    "    (\"category\", \"text\")\n",
    "])"
   ]
  },
  {
   "cell_type": "code",
   "execution_count": 143,
   "id": "676fafde",
   "metadata": {},
   "outputs": [
    {
     "data": {
      "text/plain": [
       "'dueDate_1'"
      ]
     },
     "execution_count": 143,
     "metadata": {},
     "output_type": "execute_result"
    }
   ],
   "source": [
    "# 3. Assignment queries by due date (index on dueDate)\n",
    "db.assignments.create_index(\"dueDate\")"
   ]
  },
  {
   "cell_type": "code",
   "execution_count": 144,
   "id": "9a23f8da",
   "metadata": {},
   "outputs": [
    {
     "data": {
      "text/plain": [
       "'studentId_1_courseId_1'"
      ]
     },
     "execution_count": 144,
     "metadata": {},
     "output_type": "execute_result"
    }
   ],
   "source": [
    "# 4. Enrollment queries by student and course (compound index on studentId and courseId)\n",
    "db.enrollments.create_index([(\"studentId\", 1), (\"courseId\", 1)])"
   ]
  },
  {
   "cell_type": "markdown",
   "id": "96fb77b9",
   "metadata": {},
   "source": [
    "## **Task 5.2: Query Optimization**"
   ]
  },
  {
   "cell_type": "markdown",
   "id": "30431652",
   "metadata": {},
   "source": [
    "**Analyze query performance using explain() method in PyMongo**"
   ]
  },
  {
   "cell_type": "code",
   "execution_count": 152,
   "id": "c4250fc7",
   "metadata": {},
   "outputs": [
    {
     "name": "stdout",
     "output_type": "stream",
     "text": [
      "{'executionStages': {'advanced': 0,\n",
      "                     'direction': 'forward',\n",
      "                     'docsExamined': 9,\n",
      "                     'executionTimeMillisEstimate': 0,\n",
      "                     'filter': {'category': {'$eq': 'Programming'}},\n",
      "                     'isCached': False,\n",
      "                     'isEOF': 1,\n",
      "                     'nReturned': 0,\n",
      "                     'needTime': 9,\n",
      "                     'needYield': 0,\n",
      "                     'restoreState': 0,\n",
      "                     'saveState': 0,\n",
      "                     'stage': 'COLLSCAN',\n",
      "                     'works': 10},\n",
      " 'executionSuccess': True,\n",
      " 'executionTimeMillis': 1,\n",
      " 'nReturned': 0,\n",
      " 'totalDocsExamined': 9,\n",
      " 'totalKeysExamined': 0}\n"
     ]
    }
   ],
   "source": [
    "explain_res = analyze_query_performance(db, \"courses\", {\"category\": \"Programming\"})\n"
   ]
  },
  {
   "cell_type": "markdown",
   "id": "7676fdda",
   "metadata": {},
   "source": [
    "**Optimize at least 3 slow queries**"
   ]
  },
  {
   "cell_type": "markdown",
   "id": "e7e819eb",
   "metadata": {},
   "source": [
    "**Query Before index**"
   ]
  },
  {
   "cell_type": "code",
   "execution_count": null,
   "id": "f8af58b2",
   "metadata": {},
   "outputs": [],
   "source": [
    "# 1. Course by category\n",
    "q1_before = time_query(db, \"courses\", {\"category\": \"Programming\"}, label=\"Course by Category\")\n",
    "\n",
    "# 2. Enrollment by student and course\n",
    "q2_before = time_query(db, \"enrollments\", {\"studentId\": \"student123\", \"courseId\": \"course1\"}, label=\"Enrollment Lookup\")\n",
    "\n",
    "# 3. Assignment due next week\n",
    "now = datetime.utcnow()\n",
    "next_week = now + timedelta(days=7)\n",
    "q3_before = time_query(db, \"assignments\", {\"dueDate\": {\"$gte\": now, \"$lte\": next_week}}, label=\"Upcoming Assignments\")"
   ]
  },
  {
   "cell_type": "code",
   "execution_count": 168,
   "id": "378046de",
   "metadata": {},
   "outputs": [
    {
     "data": {
      "text/plain": [
       "'dueDate_1'"
      ]
     },
     "execution_count": 168,
     "metadata": {},
     "output_type": "execute_result"
    }
   ],
   "source": [
    "#Creating Index\n",
    "db.courses.create_index([(\"category\", 1)])\n",
    "db.enrollments.create_index([(\"studentId\", 1), (\"courseId\", 1)])\n",
    "db.assignments.create_index([(\"dueDate\", 1)])\n"
   ]
  },
  {
   "cell_type": "code",
   "execution_count": 169,
   "id": "66711a11",
   "metadata": {},
   "outputs": [],
   "source": [
    "# After Indexing\n",
    "q1_after = time_query(db, \"courses\", {\"category\": \"Programming\"}, label=\"Course by Category\")\n",
    "q2_after = time_query(db, \"enrollments\", {\"studentId\": \"student123\", \"courseId\": \"course1\"}, label=\"Enrollment Lookup\")\n",
    "q3_after = time_query(db, \"assignments\", {\"dueDate\": {\"$gte\": now, \"$lte\": next_week}}, label=\"Upcoming Assignments\")\n"
   ]
  },
  {
   "cell_type": "markdown",
   "id": "e516a5c6",
   "metadata": {},
   "source": [
    "**Document the performance improvements using Python timing functions**"
   ]
  },
  {
   "cell_type": "code",
   "execution_count": 170,
   "id": "38b31f61",
   "metadata": {},
   "outputs": [
    {
     "name": "stdout",
     "output_type": "stream",
     "text": [
      "\n",
      "📊 Course by Category\n",
      "  - Before Index: 5.25 ms\n",
      "  - After Index:  0.93 ms\n",
      "  - Improvement:  4.32 ms\n",
      "\n",
      "📊 Enrollment Lookup\n",
      "  - Before Index: 1.02 ms\n",
      "  - After Index:  0.57 ms\n",
      "  - Improvement:  0.45 ms\n",
      "\n",
      "📊 Upcoming Assignments\n",
      "  - Before Index: 0.53 ms\n",
      "  - After Index:  0.54 ms\n",
      "  - Improvement:  -0.01 ms\n"
     ]
    }
   ],
   "source": [
    "print_comparison(q1_before, q1_after)\n",
    "print_comparison(q2_before, q2_after)\n",
    "print_comparison(q3_before, q3_after)\n"
   ]
  },
  {
   "cell_type": "code",
   "execution_count": null,
   "id": "48544ae4",
   "metadata": {},
   "outputs": [],
   "source": []
  }
 ],
 "metadata": {
  "kernelspec": {
   "display_name": "base",
   "language": "python",
   "name": "python3"
  },
  "language_info": {
   "codemirror_mode": {
    "name": "ipython",
    "version": 3
   },
   "file_extension": ".py",
   "mimetype": "text/x-python",
   "name": "python",
   "nbconvert_exporter": "python",
   "pygments_lexer": "ipython3",
   "version": "3.11.7"
  }
 },
 "nbformat": 4,
 "nbformat_minor": 5
}
